{
 "metadata": {
  "language_info": {
   "codemirror_mode": {
    "name": "ipython",
    "version": 3
   },
   "file_extension": ".py",
   "mimetype": "text/x-python",
   "name": "python",
   "nbconvert_exporter": "python",
   "pygments_lexer": "ipython3",
   "version": "3.7.5-final"
  },
  "orig_nbformat": 2,
  "kernelspec": {
   "name": "python3",
   "display_name": "Python 3.7.5 64-bit ('qj': conda)",
   "metadata": {
    "interpreter": {
     "hash": "1461ed4eaf9af82a15b679fb8211aa32883370151bcc762036b14c52e60f8822"
    }
   }
  }
 },
 "nbformat": 4,
 "nbformat_minor": 2,
 "cells": [
  {
   "source": [
    "今天在頭條無意看到了一個python3的學習資源 https://github.com/qiaojianjunjojo/learn-python3  \n",
    "本著想看看自己的python知識是否牢固，也順便測測自己的python能力吧。  \n",
    "大概瀏覽了一遍 所羅列出來的學習知識 跟一些小技巧，發現經過一段時間的leetcode刷題，對上面項目所演示的一些小技巧大部分都能自己寫出來甚至還有一些更好的code方式；  \n",
    "哈哈，我要偷偷的學python然後惊艳所有人！（算是对自己的code能力有了一定的提高一种鼓励吧)；  \n",
    "還是有一些被遺忘的知識點，查漏補缺，趕緊補上！"
   ],
   "cell_type": "markdown",
   "metadata": {}
  },
  {
   "cell_type": "code",
   "execution_count": 29,
   "metadata": {},
   "outputs": [],
   "source": [
    "#1. collections 之前一直对defaultdict Counters deque 比较熟悉，没怎么了解过命名元组 namedtuple ，今天满上！\n",
    "from collections import namedtuple\n",
    "#collections.namedtuple(typename, field_names, *, rename=False, defaults=None, module=None)¶\n",
    "Point = namedtuple(\"Point\",['x','y'],rename=True)\n",
    "p = Point(x=11,y=22)\n",
    "p_dict = {'x':11,'y':22}\n",
    "p_tuple = (11,22)"
   ]
  },
  {
   "cell_type": "code",
   "execution_count": 30,
   "metadata": {},
   "outputs": [
    {
     "output_type": "execute_result",
     "data": {
      "text/plain": [
       "(64, 240, 64)"
      ]
     },
     "metadata": {},
     "execution_count": 30
    }
   ],
   "source": [
    "import sys\n",
    "#命名元组实例没有字典，所以它们要更轻量，并且比字典占用更小内存。\n",
    "sys.getsizeof(p),sys.getsizeof(p_dict),sys.getsizeof(p_tuple)"
   ]
  },
  {
   "cell_type": "code",
   "execution_count": 16,
   "metadata": {},
   "outputs": [
    {
     "output_type": "execute_result",
     "data": {
      "text/plain": [
       "(33, 33)"
      ]
     },
     "metadata": {},
     "execution_count": 16
    }
   ],
   "source": [
    "#这个新的子类用于创建类元组的对象，可以通过字段名来获取属性值，同样也可以通过索引和迭代获取值\n",
    "p[0] + p[1],p.x + p.y "
   ]
  },
  {
   "cell_type": "code",
   "execution_count": 25,
   "metadata": {},
   "outputs": [
    {
     "output_type": "stream",
     "name": "stdout",
     "text": [
      "Point(x=12, y=32)\nOrderedDict([('x', 12), ('y', 32)])\nPoint(x=33, y=32)\n"
     ]
    }
   ],
   "source": [
    "#除了继承元组的方法，命名元组还支持三个额外的方法和两个属性。为了防止字段名冲突，方法和属性以下划线开始。\n",
    "t = [12, 32]\n",
    "p = Point._make(t)\n",
    "print(p)\n",
    "print(p._asdict())\n",
    "print(p._replace(x =33))"
   ]
  },
  {
   "cell_type": "code",
   "execution_count": 28,
   "metadata": {},
   "outputs": [
    {
     "output_type": "execute_result",
     "data": {
      "text/plain": [
       "{}"
      ]
     },
     "metadata": {},
     "execution_count": 28
    }
   ],
   "source": [
    "p._fields # view the field names\n",
    "p._field_defaults # "
   ]
  },
  {
   "cell_type": "code",
   "execution_count": null,
   "metadata": {},
   "outputs": [],
   "source": [
    "#命名元组尤其有用于赋值 csv sqlite3 模块返回的元组\n",
    "EmployeeRecord = namedtuple('EmployeeRecord', 'name, age, title, department, paygrade')\n",
    "\n",
    "import csv\n",
    "for emp in map(EmployeeRecord._make, csv.reader(open(\"employees.csv\", \"rb\"))):\n",
    "    print(emp.name, emp.title)\n",
    "\n",
    "import sqlite3\n",
    "conn = sqlite3.connect('/companydata')\n",
    "cursor = conn.cursor()\n",
    "cursor.execute('SELECT name, age, title, department, paygrade FROM employees')\n",
    "for emp in map(EmployeeRecord._make, cursor.fetchall()):\n",
    "    print(emp.name, emp.title)"
   ]
  },
  {
   "cell_type": "code",
   "execution_count": null,
   "metadata": {},
   "outputs": [],
   "source": []
  },
  {
   "cell_type": "code",
   "execution_count": 10,
   "metadata": {},
   "outputs": [
    {
     "output_type": "stream",
     "name": "stdout",
     "text": [
      "Tom 22\nTom 23\n"
     ]
    }
   ],
   "source": [
    "#2 复习类中 将一个属性设置为 readable（只读）\n",
    "class Person:\n",
    "    def __init__(self,name,age):\n",
    "        self._name = name\n",
    "        self._age = age\n",
    "    \n",
    "    @property\n",
    "    def name(self):\n",
    "        return self._name\n",
    "\n",
    "    @property\n",
    "    def age(self):\n",
    "        return self._age\n",
    "    \n",
    "    @age.setter\n",
    "    def age(self,value):\n",
    "        if not isinstance(value,int):\n",
    "            raise ValueError(\"age must be int.\")\n",
    "        if value<0 or value >100:\n",
    "            raise ValueError('age must between 0-100')   \n",
    "        self._age = value\n",
    "p1 = Person('Tom',22)\n",
    "print(p1.name,p1.age)\n",
    "p1.age = 23\n",
    "print(p1.name,p1.age)"
   ]
  },
  {
   "cell_type": "code",
   "execution_count": 7,
   "metadata": {},
   "outputs": [
    {
     "output_type": "execute_result",
     "data": {
      "text/plain": [
       "True"
      ]
     },
     "metadata": {},
     "execution_count": 7
    }
   ],
   "source": [
    "isinstance(23,int)"
   ]
  },
  {
   "cell_type": "code",
   "execution_count": 28,
   "metadata": {},
   "outputs": [
    {
     "output_type": "execute_result",
     "data": {
      "text/plain": [
       "'20210125 16:16:28'"
      ]
     },
     "metadata": {},
     "execution_count": 28
    }
   ],
   "source": [
    "#3. \n",
    "from datetime import datetime\n",
    "date = datetime.now()\n",
    "date.strftime(\"%Y%m%d %H:%M:%S\")"
   ]
  },
  {
   "cell_type": "code",
   "execution_count": 16,
   "metadata": {},
   "outputs": [
    {
     "output_type": "execute_result",
     "data": {
      "text/plain": [
       "(64, 48)"
      ]
     },
     "metadata": {},
     "execution_count": 16
    }
   ],
   "source": [
    "#Q1、Python中的列表和元组有什么区别？\n",
    "import sys\n",
    "sys.getsizeof([]),sys.getsizeof(())\n"
   ]
  },
  {
   "cell_type": "code",
   "execution_count": 69,
   "metadata": {},
   "outputs": [
    {
     "output_type": "stream",
     "name": "stdout",
     "text": [
      "2.5313574690340226\n5.4260266659867495\n9\n"
     ]
    }
   ],
   "source": [
    "# 顺便复习下random模块\n",
    "import random  \n",
    "print(random.uniform(1,10))  \n",
    "print(random.uniform(10,1)) \n",
    "print(random.randint(1,10))"
   ]
  },
  {
   "cell_type": "code",
   "execution_count": 79,
   "metadata": {},
   "outputs": [
    {
     "output_type": "execute_result",
     "data": {
      "text/plain": [
       "2"
      ]
     },
     "metadata": {},
     "execution_count": 79
    }
   ],
   "source": [
    "random.choice([1,2,3])"
   ]
  },
  {
   "cell_type": "code",
   "execution_count": 109,
   "metadata": {},
   "outputs": [
    {
     "output_type": "stream",
     "name": "stdout",
     "text": [
      "['B', 'D', 'C', 'E', 'A']\n"
     ]
    },
    {
     "output_type": "execute_result",
     "data": {
      "text/plain": [
       "['B', 'D', 'C', 'A']"
      ]
     },
     "metadata": {},
     "execution_count": 109
    }
   ],
   "source": [
    "p = ['A' , 'B', 'C', 'D', 'E' ]\n",
    "random.shuffle(p)  \n",
    "print (p)  \n",
    "random.sample(p,4)"
   ]
  },
  {
   "cell_type": "code",
   "execution_count": null,
   "metadata": {},
   "outputs": [],
   "source": []
  }
 ]
}