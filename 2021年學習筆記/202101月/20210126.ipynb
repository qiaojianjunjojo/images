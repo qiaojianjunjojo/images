{
 "metadata": {
  "language_info": {
   "codemirror_mode": {
    "name": "ipython",
    "version": 3
   },
   "file_extension": ".py",
   "mimetype": "text/x-python",
   "name": "python",
   "nbconvert_exporter": "python",
   "pygments_lexer": "ipython3",
   "version": "3.7.7-final"
  },
  "orig_nbformat": 2,
  "kernelspec": {
   "name": "python3",
   "display_name": "Python 3",
   "language": "python"
  }
 },
 "nbformat": 4,
 "nbformat_minor": 2,
 "cells": [
  {
   "cell_type": "code",
   "execution_count": 4,
   "metadata": {},
   "outputs": [
    {
     "output_type": "stream",
     "name": "stdout",
     "text": [
      "0.2\n0.30000000000000004\n0.4\n"
     ]
    }
   ],
   "source": [
    "#解决 python中 0.1+0.2!=0.3\n",
    "print(0.1+0.1)\n",
    "print(0.1+0.2)\n",
    "print(0.2+0.2)"
   ]
  },
  {
   "cell_type": "code",
   "execution_count": 5,
   "metadata": {},
   "outputs": [
    {
     "output_type": "execute_result",
     "data": {
      "text/plain": [
       "0.3"
      ]
     },
     "metadata": {},
     "execution_count": 5
    }
   ],
   "source": [
    "#给decimal传递Decimal整型或者字符串类型，但不能是浮点数据（浮点数据本身不准确）\n",
    "from decimal import Decimal\n",
    "float(Decimal(\"0.1\")  + Decimal(\"0.2\"))"
   ]
  },
  {
   "cell_type": "code",
   "execution_count": 13,
   "metadata": {},
   "outputs": [],
   "source": [
    "#浅拷贝与深拷贝\n",
    "#浅层复制 构造一个新的复合对象，然后（在尽可能的范围内）将原始对象中找到的对象的 引用 插入其中。\n",
    "#深层复制 构造一个新的复合对象，然后，递归地将在原始对象里找到的对象的 副本 插入其中。\n",
    "import copy\n",
    "oirgin = [1,2,[3,4]]\n",
    "cp1 = copy.copy(oirgin)\n",
    "cp2 = copy.deepcopy(oirgin)\n",
    "cp3 = oirgin"
   ]
  },
  {
   "cell_type": "code",
   "execution_count": 14,
   "metadata": {},
   "outputs": [
    {
     "output_type": "execute_result",
     "data": {
      "text/plain": [
       "(2625429930632, 2625429932168, 140712385028560)"
      ]
     },
     "metadata": {},
     "execution_count": 14
    }
   ],
   "source": [
    "id(cp1),id(cp2),id(3)"
   ]
  },
  {
   "cell_type": "code",
   "execution_count": 15,
   "metadata": {},
   "outputs": [
    {
     "output_type": "execute_result",
     "data": {
      "text/plain": [
       "True"
      ]
     },
     "metadata": {},
     "execution_count": 15
    }
   ],
   "source": [
    "cp1 == cp2 ==cp3"
   ]
  },
  {
   "cell_type": "code",
   "execution_count": 16,
   "metadata": {},
   "outputs": [
    {
     "output_type": "execute_result",
     "data": {
      "text/plain": [
       "([1, 2, [3, 4]], [1, 2, [3, 4]], [5, 2, [3, 4]])"
      ]
     },
     "metadata": {},
     "execution_count": 16
    }
   ],
   "source": [
    "oirgin[0] = 5\n",
    "cp1,cp2,cp3"
   ]
  },
  {
   "cell_type": "code",
   "execution_count": 17,
   "metadata": {},
   "outputs": [
    {
     "output_type": "execute_result",
     "data": {
      "text/plain": [
       "([1, 2, [6, 4]], [1, 2, [3, 4]], [5, 2, [6, 4]])"
      ]
     },
     "metadata": {},
     "execution_count": 17
    }
   ],
   "source": [
    "oirgin[2][0] = 6\n",
    "cp1,cp2,cp3"
   ]
  },
  {
   "source": [
    "结论：deepcopy更符合我们理解的复制，既复制一个完全独立的对象出来，与原对象毫无关系。\n",
    "对于copy(浅拷贝) 将原始对象中找到的对象的 引用 插入其中。"
   ],
   "cell_type": "markdown",
   "metadata": {}
  },
  {
   "cell_type": "code",
   "execution_count": 24,
   "metadata": {},
   "outputs": [
    {
     "output_type": "execute_result",
     "data": {
      "text/plain": [
       "datetime.datetime(2021, 1, 26, 10, 51, 38, 207008)"
      ]
     },
     "metadata": {},
     "execution_count": 24
    }
   ],
   "source": [
    "import datetime\n",
    "datetime.datetime.now()\n",
    "#今天还要 教新人javascript 先看下javascript相关的东西吧"
   ]
  },
  {
   "cell_type": "code",
   "execution_count": null,
   "metadata": {},
   "outputs": [],
   "source": [
    "#"
   ]
  }
 ]
}