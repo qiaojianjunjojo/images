{
 "metadata": {
  "language_info": {
   "codemirror_mode": {
    "name": "ipython",
    "version": 3
   },
   "file_extension": ".py",
   "mimetype": "text/x-python",
   "name": "python",
   "nbconvert_exporter": "python",
   "pygments_lexer": "ipython3",
   "version": "3.7.5-final"
  },
  "orig_nbformat": 2,
  "kernelspec": {
   "name": "python3",
   "display_name": "Python 3.7.5 64-bit ('qj': conda)",
   "metadata": {
    "interpreter": {
     "hash": "1461ed4eaf9af82a15b679fb8211aa32883370151bcc762036b14c52e60f8822"
    }
   }
  }
 },
 "nbformat": 4,
 "nbformat_minor": 2,
 "cells": [
  {
   "cell_type": "code",
   "execution_count": 2,
   "metadata": {},
   "outputs": [
    {
     "output_type": "execute_result",
     "data": {
      "text/plain": [
       "'2021-03-15 17:24:58'"
      ]
     },
     "metadata": {},
     "execution_count": 2
    }
   ],
   "source": [
    "#记录方式觉得一个月一份notebook 比较合适,就从今天开始吧！\n",
    "import time\n",
    "time.strftime('%Y-%m-%d %H:%M:%S',time.localtime(time.time()))"
   ]
  },
  {
   "cell_type": "code",
   "execution_count": 3,
   "metadata": {},
   "outputs": [
    {
     "output_type": "execute_result",
     "data": {
      "text/plain": [
       "'2021-03-16 15:53:14'"
      ]
     },
     "metadata": {},
     "execution_count": 3
    }
   ],
   "source": [
    "#import time\n",
    "time.strftime('%Y-%m-%d %H:%M:%S',time.localtime(time.time()))\n",
    "#今天把leetcode上database的题复习了一遍，总共只有20道免费的题.感觉就是一段时间不写sql,之前记得的那些小技巧都块忘光了。颇感担忧."
   ]
  },
  {
   "cell_type": "code",
   "execution_count": 44,
   "metadata": {},
   "outputs": [
    {
     "output_type": "execute_result",
     "data": {
      "text/plain": [
       "[2, 3, 4, 7, 9]"
      ]
     },
     "metadata": {},
     "execution_count": 44
    }
   ],
   "source": [
    "#排序很耗时，因此在得到一个有序序列之后，我们最好能够保持它的有序。insort(seq, item)把变量item插入到序列seq中，并能保持seq的升序顺序\n",
    "import bisect\n",
    "data = [4,2,9,7]\n",
    "data.sort()\n",
    "bisect.insort(data,3)\n",
    "data"
   ]
  },
  {
   "cell_type": "code",
   "execution_count": 48,
   "metadata": {},
   "outputs": [
    {
     "output_type": "stream",
     "name": "stdout",
     "text": [
      "1\n0\n1\n"
     ]
    }
   ],
   "source": [
    "#bisect 其目的在于查找该数值将会插入的位置并返回，而不会插入。\n",
    "import bisect\n",
    "data = [1]\n",
    "data.sort()\n",
    "print(bisect.bisect(data,2))\n",
    "print(bisect.bisect_left(data,1))\n",
    "print(bisect.bisect_right(data,1))\n",
    "#性质1：要插入的元素如果在原data中不存在 bisect_left=bisect_right\n",
    "#性质2：要插入的元素如果在原data中存在 bisect_left=bisect_right-1"
   ]
  },
  {
   "cell_type": "code",
   "execution_count": 3,
   "metadata": {},
   "outputs": [
    {
     "output_type": "execute_result",
     "data": {
      "text/plain": [
       "[1, 3, 6, 10, 15]"
      ]
     },
     "metadata": {},
     "execution_count": 3
    }
   ],
   "source": [
    "from itertools import accumulate\n",
    "list(accumulate([1,2,3,4,5]))"
   ]
  },
  {
   "cell_type": "code",
   "execution_count": 24,
   "metadata": {},
   "outputs": [
    {
     "output_type": "stream",
     "name": "stdout",
     "text": [
      "13\n"
     ]
    }
   ],
   "source": [
    "#1365. How Many Numbers Are Smaller Than the Current Number\n",
    "# 1539. Kth Missing Positive Number\n",
    "arr = [2,3,4,7,11]\n",
    "k = \n",
    "if arr[-1] -len(arr)>=k:\n",
    "    print([i for i in  range(1,arr[-1]) if i not in arr][k-1])\n",
    "else:\n",
    "    print(arr[-1] + k-(arr[-1] -len(arr)))"
   ]
  },
  {
   "cell_type": "code",
   "execution_count": 14,
   "metadata": {},
   "outputs": [
    {
     "output_type": "execute_result",
     "data": {
      "text/plain": [
       "[8, 6, 2, 4]"
      ]
     },
     "metadata": {},
     "execution_count": 14
    }
   ],
   "source": [
    "#985. Sum of Even Numbers After Queries\n",
    "A = [1,2,3,4] \n",
    "queries = [[1,0],[-3,1],[-4,0],[2,3]]\n",
    "res = []\n",
    "even_sum = sum(i for i in A if not i&1)\n",
    "for i in queries:\n",
    "    if A[i[1]]%2==0 and i[0]%2 ==0:\n",
    "        even_sum+=i[0]\n",
    "    elif A[i[1]]%2==0 and i[0]%2:\n",
    "        even_sum-=A[i[1]]\n",
    "    elif A[i[1]]%2 and i[0]%2:\n",
    "        even_sum+=(A[i[1]] + i[0])\n",
    "    elif A[i[1]]%2 and i[0]%2==0:\n",
    "        pass\n",
    "    A[i[1]]+=i[0]\n",
    "    res.append(even_sum)\n",
    "res\n",
    "    "
   ]
  },
  {
   "cell_type": "code",
   "execution_count": 25,
   "metadata": {},
   "outputs": [],
   "source": [
    "#169. Majority Element The majority element is the element that appears more than ⌊n / 2⌋ times. You may assume that the majority element always exists in the array.\n",
    "#摩尔投票算法\n",
    "nums = [3,2,3]\n",
    "candicate,count = nums[0],0\n",
    "for i in nums:\n",
    "    if count == 0:\n",
    "        candicate =i\n",
    "    count+=(1 if candicate ==i else -1)"
   ]
  },
  {
   "cell_type": "code",
   "execution_count": 32,
   "metadata": {},
   "outputs": [
    {
     "output_type": "execute_result",
     "data": {
      "text/plain": [
       "[3, 2]"
      ]
     },
     "metadata": {},
     "execution_count": 32
    }
   ],
   "source": [
    "#229. Majority Element II   ⌊ n/3 ⌋\n",
    "#摩尔投票算法\n",
    "nums = [3,2,3,2,1,2,3]\n",
    "candicate1,count1 = None,0\n",
    "candicate2,count2 = None,0\n",
    "for num in nums:\n",
    "    if candicate1 ==num:\n",
    "        count1+=1\n",
    "    elif candicate2 ==num:\n",
    "        count2+=1\n",
    "    elif count1==0:\n",
    "        candicate1 =num\n",
    "        count1=1\n",
    "    elif count2==0:\n",
    "        candicate2 = num\n",
    "        count2=1\n",
    "    else:\n",
    "        count1-=1\n",
    "        count2-=1\n",
    "res = [i for i in (candicate1,candicate2) if nums.count(i)>=len(nums)//3]\n",
    "res"
   ]
  },
  {
   "cell_type": "code",
   "execution_count": 6,
   "metadata": {},
   "outputs": [
    {
     "output_type": "execute_result",
     "data": {
      "text/plain": [
       "5"
      ]
     },
     "metadata": {},
     "execution_count": 6
    }
   ],
   "source": [
    "#121. Best Time to Buy and Sell Stock\n",
    "prices = [7,1,5,3,6,4]\n",
    "curmin = prices[0]\n",
    "maxp = 0\n",
    "for i in prices:\n",
    "    curmin = min(i,curmin)\n",
    "    if i-curmin>maxp:\n",
    "        maxp = i-curmin\n",
    "maxp"
   ]
  },
  {
   "cell_type": "code",
   "execution_count": 39,
   "metadata": {},
   "outputs": [],
   "source": [
    "#快速排序\n",
    "def in_place_quick_sort(S,a,b):\n",
    "    if a>b:return \n",
    "    left = a\n",
    "    right = b-1\n",
    "    pivot = S[b] #基准\n",
    "    while left<=right:\n",
    "        while left<=right and S[left]<pivot:\n",
    "            left+=1\n",
    "        while left<=right  and pivot<S[right]:\n",
    "            right-=1\n",
    "        if left<=right:\n",
    "            S[right],S[left] = S[left],S[right]\n",
    "            left,right = left+1,right-1\n",
    "    S[left],S[b] = S[b],S[left] # put pivot to suitable position\n",
    "    in_place_quick_sort(S,a,left-1)\n",
    "    in_place_quick_sort(S,left+1,b)"
   ]
  },
  {
   "cell_type": "code",
   "execution_count": 40,
   "metadata": {},
   "outputs": [
    {
     "output_type": "execute_result",
     "data": {
      "text/plain": [
       "[0, 1, 4, 5, 6, 7, 8]"
      ]
     },
     "metadata": {},
     "execution_count": 40
    }
   ],
   "source": [
    "nums = [4,5,1,8,6,0,7]\n",
    "in_place_quick_sort(nums,0,len(nums)-1)\n",
    "nums"
   ]
  },
  {
   "cell_type": "code",
   "execution_count": 53,
   "metadata": {},
   "outputs": [],
   "source": [
    "#归并排序\n",
    "from collections import deque\n",
    "\n",
    "def merge_sort(S):\n",
    "    if len(S)<2:\n",
    "        return \n",
    "    n = len(S)\n",
    "    S1 = deque()\n",
    "    S2 = deque()\n",
    "    while len(S)>n//2:\n",
    "        S1.append(S.popleft())\n",
    "    while len(S)>0:\n",
    "        S2.append(S.popleft())\n",
    "    merge_sort(S1)\n",
    "    merge_sort(S2)\n",
    "    merge(S1,S2,S)\n",
    "\n",
    "def merge(S1,S2,S):\n",
    "    while len(S1)>0 and len(S2)>0:\n",
    "        if S1[0]<S2[0]:\n",
    "            S.append(S1.popleft())\n",
    "        else:\n",
    "            S.append(S2.popleft())\n",
    "    while len(S1)>0:\n",
    "        S.append(S1.popleft())\n",
    "    while len(S2)>0:\n",
    "        S.append(S2.popleft())\n"
   ]
  },
  {
   "cell_type": "code",
   "execution_count": 56,
   "metadata": {},
   "outputs": [
    {
     "output_type": "stream",
     "name": "stdout",
     "text": [
      "12.8 µs ± 7.91 ns per loop (mean ± std. dev. of 7 runs, 100000 loops each)\n"
     ]
    }
   ],
   "source": [
    "s= deque([1,2,3,9,8,7,6,5])\n",
    "%timeit merge_sort(s)\n"
   ]
  },
  {
   "cell_type": "code",
   "execution_count": 55,
   "metadata": {},
   "outputs": [
    {
     "output_type": "execute_result",
     "data": {
      "text/plain": [
       "deque([1, 2, 3, 5, 6, 7, 8, 9])"
      ]
     },
     "metadata": {},
     "execution_count": 55
    }
   ],
   "source": []
  }
 ]
}