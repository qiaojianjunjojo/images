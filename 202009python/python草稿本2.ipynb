{
 "metadata": {
  "language_info": {
   "codemirror_mode": {
    "name": "ipython",
    "version": 3
   },
   "file_extension": ".py",
   "mimetype": "text/x-python",
   "name": "python",
   "nbconvert_exporter": "python",
   "pygments_lexer": "ipython3",
   "version": "3.7.5-final"
  },
  "orig_nbformat": 2,
  "kernelspec": {
   "name": "python3",
   "display_name": "Python 3.7.5 64-bit ('qj': conda)",
   "metadata": {
    "interpreter": {
     "hash": "1461ed4eaf9af82a15b679fb8211aa32883370151bcc762036b14c52e60f8822"
    }
   }
  }
 },
 "nbformat": 4,
 "nbformat_minor": 2,
 "cells": [
  {
   "cell_type": "code",
   "execution_count": null,
   "metadata": {},
   "outputs": [],
   "source": [
    "#排序很耗时，因此在得到一个有序序列之后，我们最好能够保持它的有序。insort(seq, item)把变量item插入到序列seq中，并能保持seq的升序顺序\n",
    "import bisect\n",
    "data = [4,2,9,7]\n",
    "data.sort()\n",
    "bisect.insort(data,3)\n",
    "data"
   ]
  },
  {
   "cell_type": "code",
   "execution_count": null,
   "metadata": {},
   "outputs": [],
   "source": [
    "#bisect 其目的在于查找该数值将会插入的位置并返回，而不会插入。\n",
    "import bisect\n",
    "data = [4,2,9,7]\n",
    "data.sort()\n",
    "print(bisect.bisect(data,2))\n",
    "print(bisect.bisect_left(data,2))\n",
    "print(bisect.bisect_right(data,2))"
   ]
  },
  {
   "cell_type": "code",
   "execution_count": null,
   "metadata": {},
   "outputs": [],
   "source": [
    "def grade(score,breakpoints = [60,70,80,90],grades = 'EDCBA'):\n",
    "    i = bisect.bisect_right(breakpoints,score)\n",
    "    return grades[i]\n",
    "[grade(score) for score in [60,70,80,90,95,100]]"
   ]
  },
  {
   "cell_type": "code",
   "execution_count": null,
   "metadata": {},
   "outputs": [],
   "source": [
    "from collections import defaultdict\n",
    "values =  [9,8,8,7,6]\n",
    "labels = [0,0,0,1,1]\n",
    "d = defaultdict(list)\n",
    "for index,val in enumerate(labels):\n",
    "    d[val].append(values[index])"
   ]
  },
  {
   "cell_type": "code",
   "execution_count": null,
   "metadata": {},
   "outputs": [],
   "source": [
    "d"
   ]
  },
  {
   "cell_type": "code",
   "execution_count": null,
   "metadata": {},
   "outputs": [],
   "source": [
    "res = []\n",
    "limit =2\n",
    "wanted = 3\n",
    "for i in d:\n",
    "    temp = sorted(d[i],reverse = True)\n",
    "    res.extend(temp[:limit])\n",
    "sorted(res,reverse=True)[:wanted]"
   ]
  },
  {
   "cell_type": "code",
   "execution_count": null,
   "metadata": {},
   "outputs": [],
   "source": [
    "from collections import defaultdict\n",
    "strs = [\"eat\",\"tea\",\"tan\",\"ate\",\"nat\",\"bat\"]\n",
    "d = defaultdict(list)\n",
    "for i in range(len(strs)):\n",
    "    temp = ''.join(sorted(strs[i]))\n",
    "    d[temp].append(strs[i])"
   ]
  },
  {
   "cell_type": "code",
   "execution_count": null,
   "metadata": {},
   "outputs": [],
   "source": [
    "d"
   ]
  },
  {
   "cell_type": "code",
   "execution_count": null,
   "metadata": {},
   "outputs": [],
   "source": [
    "list(d.values())"
   ]
  },
  {
   "cell_type": "code",
   "execution_count": null,
   "metadata": {},
   "outputs": [],
   "source": [
    "dictionary  = [\"a\", \"aa\", \"aaa\", \"aaaa\"]\n",
    "sentence = \"a aa a aaaa aaa aaa aaa aaaaaa bbb baba ababa\"\n",
    "#Output: \"the cat was rat by the bat\"\n",
    "temp = sentence.split()\n",
    "t = sorted(dictionary,key = len)\n",
    "res = []\n",
    "for i in temp:\n",
    "    for j in t:\n",
    "        if i.startswith(j):\n",
    "            res.append(j)\n",
    "            break\n",
    "    else:\n",
    "        res.append(i)"
   ]
  },
  {
   "cell_type": "code",
   "execution_count": null,
   "metadata": {},
   "outputs": [],
   "source": [
    "res"
   ]
  },
  {
   "cell_type": "code",
   "execution_count": null,
   "metadata": {},
   "outputs": [],
   "source": [
    "#森林中，每个兔子都有颜色。其中一些兔子（可能是全部）告诉你还有多少其他的兔子和自己有相同的颜色。我们将这些回答放在 answers 数组里。\n",
    "#返回森林中兔子的最少数量。\n",
    "from collections import Counter\n",
    "def numRabbits(answers):     \n",
    "    c = Counter(answers)\n",
    "    res = 0\n",
    "    for key,val in c.items():\n",
    "        if key+1>=val:\n",
    "            res+=key+1\n",
    "        else:\n",
    "            a,b = divmod(val,key+1)\n",
    "            res +=a*(key+1)\n",
    "            if b>0:\n",
    "                res+=key+1\n",
    "    return res\n",
    "    "
   ]
  },
  {
   "cell_type": "code",
   "execution_count": null,
   "metadata": {},
   "outputs": [],
   "source": [
    "answers = [1,1,1]\n",
    "numRabbits(answers)"
   ]
  },
  {
   "cell_type": "code",
   "execution_count": null,
   "metadata": {},
   "outputs": [],
   "source": [
    "# 4Sum II Given four lists A, B, C, D of integer values, compute how many tuples (i, j, k, l) there are such that A[i] + B[j] + C[k] + D[l] is zero.\n",
    "A = [ 1, 2]\n",
    "B = [-2,-1]\n",
    "C = [-1, 2]\n",
    "D = [ 0, 2]\n",
    "from collections import defaultdict\n",
    "di = defaultdict(int)\n",
    "for a in A:\n",
    "    for b in B:\n",
    "        di[a+b]+=1\n",
    "res = 0\n",
    "for c in C:\n",
    "    for d in D:\n",
    "        res+=di[-c-d]"
   ]
  },
  {
   "cell_type": "code",
   "execution_count": null,
   "metadata": {},
   "outputs": [],
   "source": [
    "#res"
   ]
  },
  {
   "cell_type": "code",
   "execution_count": null,
   "metadata": {},
   "outputs": [],
   "source": [
    "#4 SUM, target =k\n",
    "target,res = 0,[]\n",
    "nums = [-2,-1,-1,1,1,2,2]\n",
    "nums.sort()\n",
    "N = len(nums)\n",
    "for i in range(N-3):\n",
    "    for j in range(i+1,N-2):\n",
    "        l,r = j+1,N-1\n",
    "        while l<r:\n",
    "            if nums[i] + nums[j] + nums[l] + nums[r] == target:\n",
    "                res.append([nums[i] , nums[j] , nums[l] , nums[r]])\n",
    "                l+=1\n",
    "            elif nums[i] + nums[j] + nums[l] + nums[r] < target:\n",
    "                l+=1\n",
    "            else:\n",
    "                r-=1"
   ]
  },
  {
   "cell_type": "code",
   "execution_count": null,
   "metadata": {},
   "outputs": [],
   "source": []
  },
  {
   "cell_type": "code",
   "execution_count": null,
   "metadata": {},
   "outputs": [],
   "source": [
    "from collections import defaultdict\n",
    "d = defaultdict(int)\n",
    "for i in res:\n",
    "    d[tuple(i)]+=1"
   ]
  },
  {
   "cell_type": "code",
   "execution_count": null,
   "metadata": {},
   "outputs": [],
   "source": [
    "[list(item) for item in d.keys()]"
   ]
  },
  {
   "cell_type": "code",
   "execution_count": null,
   "metadata": {},
   "outputs": [],
   "source": [
    "nums = [3,1,3,4,3]\n",
    "k = 6\n",
    "if len(nums)==1:return 0\n",
    "        i,j=0,len(nums)-1\n",
    "        while i<j:\n",
    "            if nums[i]+nums[j]==k:\n",
    "                count+=1\n",
    "                i+=1\n",
    "                j-=1\n",
    "            elif nums[i]+nums[j]<k:\n",
    "                i+=1\n",
    "            else:\n",
    "                j-=1\n",
    "        return count\n"
   ]
  },
  {
   "cell_type": "code",
   "execution_count": null,
   "metadata": {},
   "outputs": [],
   "source": [
    "c"
   ]
  },
  {
   "cell_type": "code",
   "execution_count": null,
   "metadata": {},
   "outputs": [],
   "source": [
    "res = 0\n",
    "for i in c:\n",
    "    res+= c[k-i]"
   ]
  },
  {
   "cell_type": "code",
   "execution_count": null,
   "metadata": {},
   "outputs": [],
   "source": [
    "res"
   ]
  },
  {
   "cell_type": "code",
   "execution_count": null,
   "metadata": {},
   "outputs": [],
   "source": [
    "#Top K Frequent Words\n",
    "Words = [\"the\", \"day\", \"is\", \"sunny\", \"the\", \"the\", \"the\", \"sunny\", \"is\", \"is\"]\n",
    "k = 4\n",
    "from collections import Counter\n",
    "c = Counter(Words)\n",
    "\n",
    "sorted(c,key=lambda x: (-c[x],x))"
   ]
  },
  {
   "cell_type": "code",
   "execution_count": null,
   "metadata": {},
   "outputs": [],
   "source": [
    "points = [[0,0],[1,0],[2,0]]"
   ]
  },
  {
   "cell_type": "code",
   "execution_count": null,
   "metadata": {},
   "outputs": [],
   "source": [
    "#Minimum Area Rectangle\n",
    "points = [[1,1],[1,3],[3,1],[3,3],[4,1],[4,3]]\n",
    "res =float(\"inf\")\n",
    "seen = set()\n",
    "for x1,y1 in points:\n",
    "    for x2,y2 in seen:\n",
    "        if (x1,y2) in seen and (x2,y1) in seen:\n",
    "            res = min(res,abs(x2-x1)*abs(y2-y1))\n",
    "    seen.add((x1,y1))\n",
    "res"
   ]
  },
  {
   "cell_type": "code",
   "execution_count": null,
   "metadata": {},
   "outputs": [],
   "source": [
    "minAreaRect(points)"
   ]
  },
  {
   "cell_type": "code",
   "execution_count": null,
   "metadata": {},
   "outputs": [],
   "source": [
    "divmod((ord('f')-97),5)"
   ]
  },
  {
   "cell_type": "code",
   "execution_count": null,
   "metadata": {},
   "outputs": [],
   "source": [
    "target = 'zdz'\n",
    "start = (0,0)\n",
    "res = ''\n",
    "def func(p1,p2):\n",
    "    ans = ''\n",
    "    if p2 ==(5,0):\n",
    "        ans+= abs(p2[1]-p1[1])*'R' if p2[1]>p1[1] else abs(p2[1]-p1[1])*'L'\n",
    "        ans+= abs(p2[0]-p1[0])*'D' if p2[0]>p1[0] else abs(p2[0]-p1[0])*'U'\n",
    "        \n",
    "    else:\n",
    "        ans+= abs(p2[0]-p1[0])*'D' if p2[0]>p1[0] else abs(p2[0]-p1[0])*'U'\n",
    "        ans+= abs(p2[1]-p1[1])*'R' if p2[1]>p1[1] else abs(p2[1]-p1[1])*'L'\n",
    "    return ans+'!'\n",
    "for i in target:\n",
    "    cur =  divmod((ord(i)-97),5)\n",
    "    res+=func(start,cur)\n",
    "    start = cur\n",
    "res"
   ]
  },
  {
   "cell_type": "code",
   "execution_count": null,
   "metadata": {},
   "outputs": [],
   "source": [
    "divmod((ord(\"l\")-97),5)"
   ]
  },
  {
   "cell_type": "code",
   "execution_count": null,
   "metadata": {},
   "outputs": [],
   "source": [
    "#Brick Wall\n",
    "wall =[[1,1,1],[1,2],[1,1,1]]\n",
    "from itertools import accumulate\n",
    "from collections import Counter\n",
    "d = Counter()\n",
    "temp = [list(accumulate(li)) for li in wall]\n",
    "for i in temp:\n",
    "    for j in range(len(i)-1): # not include the last one,\n",
    "        d[i[j]]+=1\n",
    "len(wall)-d.most_common(1)[0][1]"
   ]
  },
  {
   "cell_type": "code",
   "execution_count": null,
   "metadata": {},
   "outputs": [],
   "source": [
    "temp"
   ]
  },
  {
   "cell_type": "code",
   "execution_count": null,
   "metadata": {},
   "outputs": [],
   "source": [
    "wall =[[1,1,1],[1,2],[1,1,1]]\n",
    "from collections import defaultdict\n",
    "d = defaultdict(int)\n",
    "for i in wall:\n",
    "    sum = 0\n",
    "    for j in range(len(i)-1):\n",
    "        sum+=i[j]\n",
    "        d[sum]+=1\n",
    "if len(d)==0:pass\n",
    "maxv = 0\n",
    "for k,v in d.items():\n",
    "    maxv = max(maxv,v)"
   ]
  },
  {
   "cell_type": "code",
   "execution_count": null,
   "metadata": {},
   "outputs": [],
   "source": [
    "#detemine a 9*9 board is valid \n",
    "board = [[\"3\",\"3\",\".\",\".\",\"7\",\".\",\".\",\".\",\".\"]\n",
    ",[\"6\",\".\",\".\",\"1\",\"9\",\"5\",\".\",\".\",\".\"]\n",
    ",[\".\",\"9\",\"8\",\".\",\".\",\".\",\".\",\"6\",\".\"]\n",
    ",[\"8\",\".\",\".\",\".\",\"6\",\".\",\".\",\".\",\"3\"]\n",
    ",[\"4\",\".\",\".\",\"8\",\".\",\"3\",\".\",\".\",\"1\"]\n",
    ",[\"7\",\".\",\".\",\".\",\"2\",\".\",\".\",\".\",\"6\"]\n",
    ",[\".\",\"6\",\".\",\".\",\".\",\".\",\"2\",\"8\",\".\"]\n",
    ",[\".\",\".\",\".\",\"4\",\"1\",\"9\",\".\",\".\",\"5\"]\n",
    ",[\".\",\".\",\".\",\".\",\"8\",\".\",\".\",\"7\",\"9\"]]\n",
    "rows = [set() for i in range(9)]\n",
    "coloums = [set() for i in range(9)]\n",
    "boxs = [[set() for i in range(3)] for j in range(3)]\n",
    "for i in range(9):\n",
    "    for j in range(9):\n",
    "        if board[i][j] ==\".\":\n",
    "            continue\n",
    "        num = int(board[i][j])\n",
    "        y = i//3\n",
    "        x = j//3\n",
    "        if (num in rows[i]) or (num in coloums[j]) or (num in boxs[x][y]):\n",
    "            print(False)\n",
    "        rows[i].add(num)\n",
    "        coloums[j].add(num)\n",
    "        boxs[x][y].add(num)"
   ]
  },
  {
   "cell_type": "code",
   "execution_count": null,
   "metadata": {},
   "outputs": [],
   "source": []
  },
  {
   "cell_type": "code",
   "execution_count": 86,
   "metadata": {},
   "outputs": [],
   "source": [
    "#Maximum Length of Repeated Subarray\n",
    "A= [1,2,3,2,1]\n",
    "B= [3,2,1,4,7]"
   ]
  },
  {
   "cell_type": "code",
   "execution_count": null,
   "metadata": {},
   "outputs": [],
   "source": [
    "m"
   ]
  },
  {
   "cell_type": "code",
   "execution_count": null,
   "metadata": {},
   "outputs": [],
   "source": [
    "from collections import defaultdict"
   ]
  },
  {
   "cell_type": "code",
   "execution_count": 111,
   "metadata": {},
   "outputs": [
    {
     "output_type": "execute_result",
     "data": {
      "text/plain": [
       "1"
      ]
     },
     "metadata": {},
     "execution_count": 111
    }
   ],
   "source": [
    "d = {1:1}\n",
    "import random\n",
    "random.choice(list(d.keys()))\n"
   ]
  },
  {
   "cell_type": "code",
   "execution_count": null,
   "metadata": {},
   "outputs": [],
   "source": [
    "d = {1:1,2:2}"
   ]
  },
  {
   "cell_type": "code",
   "execution_count": 113,
   "metadata": {},
   "outputs": [
    {
     "output_type": "execute_result",
     "data": {
      "text/plain": [
       "{}"
      ]
     },
     "metadata": {},
     "execution_count": 113
    }
   ],
   "source": [
    "del d[1]\n",
    "d"
   ]
  },
  {
   "cell_type": "code",
   "execution_count": 140,
   "metadata": {},
   "outputs": [],
   "source": [
    "import random\n",
    "class RandomizedSet:\n",
    "    def __init__(self):\n",
    "        \"\"\"\n",
    "        Initialize your data structure here.\n",
    "        \"\"\"\n",
    "        self.data = {}\n",
    "        self.array = []\n",
    "        self.size = 0\n",
    "\n",
    "    def insert(self, val: int) -> bool:\n",
    "        \"\"\"\n",
    "        Inserts a value to the set. Returns true if the set did not already contain the specified element.\n",
    "        \"\"\"\n",
    "        if val in self.data:\n",
    "            return False\n",
    "        else:\n",
    "            self.array.append(val)\n",
    "            self.data[val]=self.size\n",
    "            self.size+=1\n",
    "            return True\n",
    "    def remove(self, val: int) -> bool:\n",
    "        \"\"\"\n",
    "        Removes a value from the set. Returns true if the set contained the specified element.\n",
    "        \"\"\"\n",
    "        if val not in self.data:\n",
    "            return False\n",
    "        else:\n",
    "            idx = self.data[val]\n",
    "            print(idx)\n",
    "            \n",
    "            self.data[self.array[self.size-1]] = idx\n",
    "            self.array[-1],self.array[idx] = self.array[idx],self.array[-1]\n",
    "             #self.data[self.array[self.size-1]] = idx 找到問題了,執行順序問題\n",
    "            print(self.data)\n",
    "            self.array.pop()\n",
    "            self.size-=1\n",
    "            del self.data[val]\n",
    "           \n",
    "            return True\n",
    "\n",
    "    def getRandom(self) -> int:\n",
    "        \"\"\"\n",
    "        Get a random element from the set.\n",
    "        \"\"\"\n",
    "        item = random.randint(0,self.size-1)\n",
    "        return self.array[item]\n",
    "    "
   ]
  },
  {
   "cell_type": "code",
   "execution_count": 17,
   "metadata": {},
   "outputs": [],
   "source": [
    "wordlist = [\"KiTe\",\"kite\",\"hare\",\"Hare\"]\n",
    "queries = [\"kite\",\"Kite\",\"KiTe\",\"Hare\",\"HARE\",\"Hear\",\"hear\",\"keti\",\"keet\",\"keto\"]\n",
    "res = []\n",
    "\n",
    "def func(str1,str2):\n",
    "    if len(str1) != len(str2):\n",
    "        return False\n",
    "    i = 0\n",
    "    while i< len(str1):\n",
    "        if str1[i].lower() in 'aeiou' and str2[i].lower() in 'aeiou':\n",
    "            i+=1\n",
    "        elif str1[i].lower() ==str2[i].lower():\n",
    "            i+=1\n",
    "        else:\n",
    "            return False\n",
    "    return True\n",
    "\n",
    "for i in range(len(queries)):\n",
    "    j = 0 \n",
    "    while j< len(wordlist):\n",
    "        if func(queries[i],wordlist[j]):\n",
    "            res.append(queries[i])\n",
    "            break\n",
    "        j+=1\n",
    "    if j ==len(wordlist):\n",
    "        res.append(\"\")\n",
    "  "
   ]
  },
  {
   "cell_type": "code",
   "execution_count": 18,
   "metadata": {},
   "outputs": [
    {
     "output_type": "execute_result",
     "data": {
      "text/plain": [
       "['kite', 'Kite', 'KiTe', 'Hare', 'HARE', '', '', 'keti', '', 'keto']"
      ]
     },
     "metadata": {},
     "execution_count": 18
    }
   ],
   "source": [
    "res"
   ]
  },
  {
   "cell_type": "code",
   "execution_count": null,
   "metadata": {},
   "outputs": [],
   "source": [
    "[\"kite\",\"KiTe\",\"KiTe\",\"Hare\",\"hare\",\"\",\"\",\"KiTe\",\"\",\"KiTe\"]"
   ]
  }
 ]
}