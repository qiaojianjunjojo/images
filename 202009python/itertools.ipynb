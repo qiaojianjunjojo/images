{
 "metadata": {
  "language_info": {
   "codemirror_mode": {
    "name": "ipython",
    "version": 3
   },
   "file_extension": ".py",
   "mimetype": "text/x-python",
   "name": "python",
   "nbconvert_exporter": "python",
   "pygments_lexer": "ipython3",
   "version": "3.7.5-final"
  },
  "orig_nbformat": 2,
  "kernelspec": {
   "name": "python3",
   "display_name": "Python 3"
  }
 },
 "nbformat": 4,
 "nbformat_minor": 2,
 "cells": [
  {
   "cell_type": "code",
   "execution_count": null,
   "metadata": {},
   "outputs": [],
   "source": [
    "\"\"\"\n",
    "无穷的迭代器 count(start,[step])\n",
    "\"\"\"\n",
    "import itertools\n",
    "c = itertools.count(0, 3)\n",
    "v = next(c)\n",
    "while v < 10:\n",
    "    v = next(c)\n",
    "    print(v, end=',')"
   ]
  },
  {
   "cell_type": "code",
   "execution_count": null,
   "metadata": {},
   "outputs": [],
   "source": []
  },
  {
   "cell_type": "code",
   "execution_count": null,
   "metadata": {},
   "outputs": [],
   "source": [
    "\"\"\"\n",
    "无穷迭代器 cycle()\n",
    "\"\"\"\n",
    "from itertools import cycle\n",
    " \n",
    "c = cycle('ABCD')\n",
    "for i in range(10):\n",
    "    print(next(c), end=',')"
   ]
  },
  {
   "cell_type": "code",
   "execution_count": null,
   "metadata": {},
   "outputs": [],
   "source": [
    "\"\"\"\n",
    "itertools.repeat(object[, times])\n",
    "\"\"\"\n",
    "from itertools import repeat\n",
    " \n",
    "r = repeat(2)\n",
    "for i in range(10):\n",
    "    print(next(r), end=',')"
   ]
  },
  {
   "cell_type": "code",
   "execution_count": null,
   "metadata": {},
   "outputs": [],
   "source": [
    "# A common use for repeat is to supply a stream of constant values to map or zip:\n",
    "list(map(pow, range(10), repeat(2)))"
   ]
  },
  {
   "cell_type": "code",
   "execution_count": null,
   "metadata": {},
   "outputs": [],
   "source": [
    "\"\"\"\n",
    "迭代器 accumulate()\n",
    "\"\"\"\n",
    "from itertools import accumulate\n",
    "import operator\n",
    " \n",
    "test_list = range(1,10)\n",
    "for i in accumulate(test_list): # 默认是operator.add\n",
    "    print(i, end=',')\n",
    "print()\n",
    "for i in accumulate(test_list, operator.mul): # operator.mul\n",
    "    print(i, end=',')\n",
    "print()\n",
    "for i in accumulate(test_list, min): # operator.mul\n",
    "    print(i, end=',')"
   ]
  },
  {
   "cell_type": "code",
   "execution_count": null,
   "metadata": {},
   "outputs": [],
   "source": [
    "\"\"\"\n",
    "迭代器 chain()\n",
    "# chain.from_iterable(['ABC', 'DEF']) --> A B C D E F\n",
    "\n",
    "def chain(*iterables):\n",
    "    for i in iterables:\n",
    "        for element in i:\n",
    "            yield element\n",
    "\"\"\"\n",
    "\n",
    "from itertools import chain\n",
    " \n",
    "ch = chain([1, 2, 3], {4: 44, 5: 55}, {6, 7, 8}, (9,), [10, [11, 12]])\n",
    "for i in ch:\n",
    "    print(i,end='')"
   ]
  },
  {
   "cell_type": "code",
   "execution_count": null,
   "metadata": {},
   "outputs": [],
   "source": [
    "\"\"\"\n",
    "迭代器 compress\n",
    "\n",
    "def compress(data, selectors):\n",
    "    # compress('ABCDEF', [1,0,1,0,1,1]) --> A C E F\n",
    "    return (d for d, s in zip(data, selectors) if s)\n",
    "\"\"\"\n",
    "from itertools import compress\n",
    " \n",
    "list(compress(['A', 'B', 'C', 'D'], [False, True, False, True]))"
   ]
  },
  {
   "cell_type": "code",
   "execution_count": null,
   "metadata": {},
   "outputs": [],
   "source": [
    "\"\"\"\n",
    "itertools.dropwhile(predicate, iterable)¶\n",
    "循环开始的条件是，直到遇到第一次不满足pred条件的情况，才开始遍历。\n",
    "\"\"\"\n",
    "from itertools import dropwhile\n",
    " \n",
    "l = [2, 1, 7, 6, 3, 8, 2, 10]\n",
    "print(list(dropwhile(lambda x: x < -3, l)))"
   ]
  },
  {
   "cell_type": "code",
   "execution_count": null,
   "metadata": {},
   "outputs": [],
   "source": [
    "\"\"\"\n",
    "itertools.filterfalse(predicate, iterable)\n",
    "返回迭代器中在 predicate 為false 時的元素\n",
    "\"\"\"\n",
    "\n",
    "from itertools import filterfalse\n",
    "list(filterfalse(lambda x:x%2,range(10))) # 0為false"
   ]
  },
  {
   "cell_type": "code",
   "execution_count": null,
   "metadata": {},
   "outputs": [],
   "source": [
    "from itertools import groupby\n",
    " \n",
    "# 对字符串进行分组\n",
    "for k, g in groupby('abbcccdddeeeefffffaaa'):\n",
    "    print(k,len(list(g)))\n",
    "d = {1: 1, 2: 2, 3: 4}\n",
    "# 按照字典value来进行分组\n",
    "for k, g in groupby(d,key=lambda x:d.get(x)):\n",
    "    print(k, list(g))"
   ]
  },
  {
   "cell_type": "code",
   "execution_count": null,
   "metadata": {},
   "outputs": [],
   "source": [
    "\"\"\"\n",
    "itertools.islice(iterable, stop)\n",
    "itertools.islice(iterable, start, stop[, step])\n",
    "对迭代对象进行切割，不支持负数，有点像range(1,10,2)这种\n",
    "# islice('ABCDEFG', 2) --> A B \n",
    "# islice('ABCDEFG', 2, 4) --> C D\n",
    "# islice('ABCDEFG', 2, None) --> C D E F G\n",
    "# islice('ABCDEFG', 0, None, 2) --> A C E G\n",
    "\"\"\"\n",
    "\n",
    "from itertools import islice\n",
    "list(islice('123456',0,6,2))"
   ]
  },
  {
   "cell_type": "code",
   "execution_count": null,
   "metadata": {},
   "outputs": [],
   "source": [
    "\"\"\"\n",
    "itertools.starmap(function, iterable)\n",
    "\n",
    "def starmap(function, iterable):\n",
    "    # starmap(pow, [(2,5), (3,2), (10,3)]) --> 32 9 1000\n",
    "    for args in iterable:\n",
    "        yield function(*args)\n",
    "\"\"\"\n",
    "from itertools import starmap\n",
    "list(starmap(lambda x,y,z:x+y-z,[(2,5,3), (3,2,2), (10,3,1)]))"
   ]
  },
  {
   "cell_type": "code",
   "execution_count": null,
   "metadata": {},
   "outputs": [],
   "source": [
    "\"\"\"\n",
    "itertools.takewhile(predicate, iterable)\n",
    "\n",
    "返回一個元素在 predicate條件中 為True,但 儅變爲 False就立馬結束的迭代器。如果第一個元素就為False,return [];\n",
    "def takewhile(predicate, iterable):\n",
    "    # takewhile(lambda x: x<5, [1,4,6,4,1]) --> 1 4\n",
    "    for x in iterable:\n",
    "        if predicate(x):\n",
    "            yield x\n",
    "        else:\n",
    "            break\n",
    "\"\"\"\n",
    "from itertools import takewhile\n",
    "list(takewhile(lambda x:x<5,[2,1,3,5,7,9]))"
   ]
  },
  {
   "cell_type": "code",
   "execution_count": null,
   "metadata": {},
   "outputs": [],
   "source": [
    "\"\"\"\n",
    "itertools.zip_longest(*iterables, fillvalue=None)¶\n",
    "这个和zip很像，不同地方在于:\n",
    "\n",
    "zip结束取决于里面最短的迭代对象\n",
    "zip_longest结束取决于里面最长的迭代对象\n",
    "\"\"\"\n",
    "from itertools import zip_longest\n",
    " \n",
    "for x,y in zip_longest([1,2,3],[1,2],fillvalue='A'):\n",
    "    print(x,y)  \n",
    "for x,y in zip([1,2,3],[1,2]):\n",
    "    print(x,y)\n",
    "\n",
    "list(zip_longest('ABCD', 'xy','12345', fillvalue='-') )"
   ]
  },
  {
   "cell_type": "code",
   "execution_count": null,
   "metadata": {},
   "outputs": [],
   "source": []
  }
 ]
}