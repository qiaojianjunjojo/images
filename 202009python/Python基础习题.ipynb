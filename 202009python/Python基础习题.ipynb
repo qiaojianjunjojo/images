{
 "cells": [
  {
   "cell_type": "markdown",
   "metadata": {},
   "source": [
    "1 Python 中，以下哪个函数是用于输出内容到终端的？\n",
    "\n",
    "echo\n",
    "output\n",
    "print\n",
    "console.log"
   ]
  },
  {
   "cell_type": "markdown",
   "metadata": {},
   "source": [
    "2 以下关于 Python 的描述错误的是？\n",
    "\n",
    "Python 的语法类似 PHP\n",
    "Python 可用于 Web 开发\n",
    "Python 是跨平台的\n",
    "Python 可用于数据抓取（爬虫）"
   ]
  },
  {
   "cell_type": "markdown",
   "metadata": {},
   "source": [
    "3.以下哪个符号是用作 Python 的注释？\n",
    "\n",
    "*\n",
    "(comment)\n",
    "//\n",
    "#"
   ]
  },
  {
   "cell_type": "markdown",
   "metadata": {},
   "source": [
    "4.以下哪个标记是用作 Python 的多行注释？\n",
    "\n",
    "'''\n",
    "///\n",
    "###\n",
    "(comment)"
   ]
  },
  {
   "cell_type": "markdown",
   "metadata": {},
   "source": [
    "5.Python 中，以下哪个变量的赋值是正确的？\n",
    "\n",
    "var a = 2\n",
    "int a = 2\n",
    "a = 2\n",
    "variable a = 2"
   ]
  },
  {
   "cell_type": "markdown",
   "metadata": {},
   "source": [
    "6.变量 a 的值为字符串类型的 \"2\"，如何将它转换为整型？\n",
    "\n",
    "castToInt(a)\n",
    "int(a)\n",
    "integer(a)\n",
    "castToInteger(a)"
   ]
  },
  {
   "cell_type": "markdown",
   "metadata": {},
   "source": [
    "7.Python 中，以下哪个赋值操作符是错误的？\n",
    "\n",
    "+=\n",
    "-=\n",
    "*=\n",
    "X="
   ]
  },
  {
   "cell_type": "markdown",
   "metadata": {},
   "source": [
    "8.下面哪一个不是 Python 的数据类型？\n",
    "\n",
    "列表（List）\n",
    "字典（Dictionary）\n",
    "元组（Tuples）\n",
    "类（Class）"
   ]
  },
  {
   "cell_type": "markdown",
   "metadata": {},
   "source": [
    "9.代码 L = [1, 23, \"runoob\", 1] 输出的数据类型是？\n",
    "\n",
    "List\n",
    "Dictionary\n",
    "Tuple\n",
    "Array"
   ]
  },
  {
   "cell_type": "markdown",
   "metadata": {},
   "source": [
    "10.代码 a = [ 1,2,3,4,5 ]，以下输出结果正确的是？\n",
    "\n",
    "print(a[:]) => [1,2,3,4]\n",
    "print(a[0:]) => [2,3,4,5]\n",
    "print(a[:100]) => [1,2,3,4,5]\n",
    "print(a[-1:]) => [1,2]"
   ]
  },
  {
   "cell_type": "markdown",
   "metadata": {},
   "source": [
    "11.以下哪个代码是将字符串转换为浮点数？\n",
    "\n",
    "int(x [,base])\n",
    "long(x [,base] )\n",
    "float(x)\n",
    "str(x)"
   ]
  },
  {
   "cell_type": "markdown",
   "metadata": {},
   "source": [
    "12.以下哪个 if 语句是正确的？\n",
    "\n",
    "if a >= 22:\n",
    "if (a >= 22)\n",
    "if (a => 22)\n",
    "if a >= 22"
   ]
  },
  {
   "cell_type": "markdown",
   "metadata": {},
   "source": [
    "13.以下哪个关键字是用于给 if 语句添加其他条件语句的？\n",
    "\n",
    "else if\n",
    "elseif\n",
    "elif\n",
    "以上都不是"
   ]
  },
  {
   "cell_type": "markdown",
   "metadata": {},
   "source": [
    "14.以下代码中哪个是定义函数的语句是正确的？\n",
    "\n",
    "def someFunction():\n",
    "function someFunction()\n",
    "def someFunction()\n",
    "function someFunction():"
   ]
  },
  {
   "cell_type": "markdown",
   "metadata": {},
   "source": [
    "15.以下代码中哪个是正确的 for 循环语句是？\n",
    "\n",
    "for(a = 0; a < 3; a++)\n",
    "for a in range(3)\n",
    "for a loop 3:\n",
    "for a in range(1,3):"
   ]
  },
  {
   "cell_type": "markdown",
   "metadata": {},
   "source": [
    "16.以下代码中哪个是正确的 while 循环语句是？\n",
    "\n",
    "while loop a < 10\n",
    "while a < 10:\n",
    "while(a < 10)\n",
    "while loop a < 10:"
   ]
  },
  {
   "cell_type": "markdown",
   "metadata": {},
   "source": [
    "17.假设你有一个变量 \"example\"，如何判断它的类型？\n",
    "\n",
    "getType(example)\n",
    "Type(example)\n",
    "type(example)\n",
    "example.type:"
   ]
  },
  {
   "cell_type": "markdown",
   "metadata": {},
   "source": [
    "18.将字符串 \"example\" 中的字母 a 替换为字母 b，以下代码正确的是？\n",
    "example.swap('b', 'a')\n",
    "example.replace('a','b')\n",
    "example.match('b','a')\n",
    "example.replace('b','a')"
   ]
  },
  {
   "cell_type": "markdown",
   "metadata": {},
   "source": [
    "19.Python 中，以下哪个代码是正确的列表？\n",
    "\n",
    "sampleList = {1,2,3,4,5}\n",
    "sampleList = (1,2,3,4,5)\n",
    "sampleList = /1,2,3,4,5/\n",
    "sampleList = [1,2,3,4,5]"
   ]
  },
  {
   "cell_type": "markdown",
   "metadata": {},
   "source": [
    "20.Python 中，以下哪个代码是正确的元组？\n",
    "\n",
    "sampleTuple = (1,2,3,4,5)\n",
    "sampleTuple = {1,2,3,4,5}\n",
    "sampleTuple = [1,2,3,4,5]\n",
    "sampleList = /1,2,3,4,5/"
   ]
  },
  {
   "cell_type": "markdown",
   "metadata": {},
   "source": [
    "21.Python 中，以下哪个代码是正确的字典？\n",
    "\n",
    "myExample = {'someItem'=>2, 'otherItem'=>20}\n",
    "myExample = {'someItem': 2, 'otherItem': 20}\n",
    "myExample = ('someItem'=>2, 'otherItem'=>20)\n",
    "myExample = ('someItem': 2, 'otherItem': 20)"
   ]
  },
  {
   "cell_type": "markdown",
   "metadata": {},
   "source": [
    "22.代码 print(type([1,2])) 输出结果为：\n",
    "\n",
    "<class 'tuple'>\n",
    "<class 'int'>\n",
    "<class 'set'>\n",
    "<class 'list'>\n",
    "<class 'complex'>"
   ]
  },
  {
   "cell_type": "markdown",
   "metadata": {},
   "source": [
    "23.def f(): pass\n",
    "\n",
    "print(type(f()))\n",
    "\n",
    "以上代码输出结果为？\n",
    "\n",
    "<class 'function'>\n",
    "<class 'tuple'>\n",
    "<class 'NoneType'>\n",
    "<class 'str'>\n",
    "<class 'type'>"
   ]
  },
  {
   "cell_type": "markdown",
   "metadata": {},
   "source": [
    "24.a = [1,2,3,None,(),[],]\n",
    "\n",
    "print(len(a))\n",
    "\n",
    "以上代码输出结果为？\n",
    "\n",
    "syntax error\n",
    "4\n",
    "5\n",
    "6\n",
    "7"
   ]
  },
  {
   "cell_type": "markdown",
   "metadata": {},
   "source": [
    "25.Python 中，如何输出列表中的第二个元素？\n",
    "exampale = [1,2,3,4,5]\n",
    "print(example[2])\n",
    "echo(example[2])\n",
    "print(example[1])\n",
    "print(example(2))"
   ]
  },
  {
   "cell_type": "markdown",
   "metadata": {},
   "source": [
    "26.print('%.2f' % 123.444) 输出结果为？\n",
    "\n",
    "123.44\n",
    "12\n",
    "123.444\n",
    "44"
   ]
  },
  {
   "cell_type": "markdown",
   "metadata": {},
   "source": [
    "27.代码 def a(b, c, d): pass 含义是？\n",
    "\n",
    "定义一个列表，并初始化它。\n",
    "定义一个函数，但什么都不做。\n",
    "定义一个函数，并传递参数。\n",
    "定义一个空的类。\n"
   ]
  },
  {
   "cell_type": "markdown",
   "metadata": {},
   "source": [
    "# Python 测验 - 操作符"
   ]
  },
  {
   "cell_type": "markdown",
   "metadata": {},
   "source": [
    "28.x 的 y 次方 以下表达式正确的是?\n",
    "\n",
    "x^y\n",
    "x**y\n",
    "x^^y\n",
    "Python 没有提到"
   ]
  },
  {
   "cell_type": "markdown",
   "metadata": {},
   "source": [
    "29.22 % 3 表达式输出结果为？\n",
    "\n",
    "7\n",
    "1\n",
    "0\n",
    "5"
   ]
  },
  {
   "cell_type": "markdown",
   "metadata": {},
   "source": [
    "30.3*1**3 表达式输出结果为？\n",
    "\n",
    "27\n",
    "9\n",
    "3\n",
    "1"
   ]
  },
  {
   "cell_type": "markdown",
   "metadata": {},
   "source": [
    "31.9//2 表达式输出结果为？\n",
    "\n",
    "2\n",
    "3\n",
    "4\n",
    "5"
   ]
  },
  {
   "cell_type": "markdown",
   "metadata": {},
   "source": [
    "# Python 测验 - 条件判断与循环"
   ]
  },
  {
   "cell_type": "markdown",
   "metadata": {},
   "source": [
    "1.if None:\n",
    "    print(“Hello”)\n",
    "    \n",
    "以上代码输出的结果是？\n",
    "\n",
    "False\n",
    "Hello\n",
    "没有任何输出\n",
    "语法错误"
   ]
  },
  {
   "cell_type": "markdown",
   "metadata": {},
   "source": [
    "2.在 if...elif...else 的多个语句块中只会执行一个语句块？\n",
    "\n",
    "正确。\n",
    "错误。\n",
    "根据条件决定。\n",
    "Pyhton 中没有 elif 语句"
   ]
  },
  {
   "cell_type": "markdown",
   "metadata": {},
   "source": []
  },
  {
   "cell_type": "markdown",
   "metadata": {},
   "source": [
    "for i in [1, 0]:\n",
    "    print(i+1)\n",
    "3.以上代码输出结果为？\n",
    "\n",
    "A. 2\n",
    "   1\n",
    "B.[2, 1]\n",
    "C.2\n",
    "D.(2,1)"
   ]
  },
  {
   "cell_type": "markdown",
   "metadata": {},
   "source": [
    "4.Python 中，for 和 while 可以有 else 语句？\n",
    "\n",
    "只有 for 才有 else 语句。\n",
    "只有 while 才有 else 语句。\n",
    "for 和 while 都可以有 else 语句。\n",
    "for 和 while 都没有 else 语句。"
   ]
  },
  {
   "cell_type": "markdown",
   "metadata": {},
   "source": [
    "5.i = sum = 0\n",
    "\n",
    "while i <= 4:\n",
    "    sum += i\n",
    "    i = i+1\n",
    "\n",
    "print(sum)\n",
    "以上代码输出的结果是？\n",
    "\n",
    "0\n",
    "10\n",
    "4\n",
    "以上结果都不对。\n"
   ]
  },
  {
   "cell_type": "markdown",
   "metadata": {},
   "source": [
    "6.\n",
    "while 4 == 4:\n",
    "    print('4')\n",
    "以上代码输出的结果是？\n",
    "\n",
    "输出一次 4。\n",
    "输出四次 4。\n",
    "无限次输出 4，直到程序关闭。\n",
    "语法错误。"
   ]
  },
  {
   "cell_type": "markdown",
   "metadata": {},
   "source": [
    "7.迭代输出序列时（如：列表）使用 for 比 while 更好？\n",
    "\n",
    "错误，while 比 for 更好。\n",
    "正确\n",
    "错误，while 不能用于迭代系列。\n",
    "错误，for 和 while 都不能用于迭代系列。"
   ]
  },
  {
   "cell_type": "markdown",
   "metadata": {},
   "source": [
    "8.\n",
    "以下哪个描述是正确的？\n",
    "\n",
    "break 语句用于终止当前循环。\n",
    "continue 语句用于跳过当前剩余要执行的代码，执行下一次循环。\n",
    "break 和 continue 语句通常与 if, if...else 和 if...elif...else 语句一起使用。\n",
    "以上说法都是正确的。"
   ]
  },
  {
   "cell_type": "markdown",
   "metadata": {},
   "source": [
    "9.\n",
    "for char in 'PYTHON STRING':\n",
    "  if char == ' ':\n",
    "      break\n",
    "\n",
    "  print(char, end='')\n",
    "  \n",
    "  if char == 'O':\n",
    "      continue\n",
    "      \n",
    "以上代码输出的结果是？\n",
    "\n",
    "PYTHON\n",
    "PYTHONSTRING\n",
    "PYTHN\n",
    "STRING"
   ]
  },
  {
   "cell_type": "markdown",
   "metadata": {},
   "source": [
    "10.以下关于 pass 哪个描述是正确的？\n",
    "\n",
    "Python 会忽略 pass 语句，就像忽略注释一样。\n",
    "pass 语句会终止当前循环。\n",
    "pass 不做任何事情，一般用做占位语句。\n",
    "以上说法都是正确的。"
   ]
  },
  {
   "cell_type": "markdown",
   "metadata": {},
   "source": [
    "# Python 测验 - 函数"
   ]
  },
  {
   "cell_type": "markdown",
   "metadata": {},
   "source": [
    "1.以下内容关于函数描述正确的是？\n",
    "\n",
    "函数用于创建对象\n",
    "函数可以让重新执行的更快\n",
    "函数是一段代码用于执行特定的任务\n",
    "以上说法都是正确的"
   ]
  },
  {
   "cell_type": "markdown",
   "metadata": {},
   "source": [
    "2.x = True\n",
    "def printLine(text):\n",
    "    print(text, ' Runoob')\n",
    "printLine('Python')"
   ]
  },
  {
   "cell_type": "markdown",
   "metadata": {},
   "source": [
    "3.如果函数没有使用 return 语句，则函数返回的是？\n",
    "\n",
    "0\n",
    "None 对象\n",
    "任意的整数\n",
    "错误! 函数必须要有返回值。"
   ]
  },
  {
   "cell_type": "markdown",
   "metadata": {},
   "source": [
    "4.\n",
    "def greetPerson(*name):\n",
    "    print('Hello', name)\n",
    "  \n",
    "greetPerson('Runoob', 'Google')\n",
    "以上代码输出结果为？\n",
    "\n",
    "Hello Runoob\n",
    "Hello Google\n",
    "Hello ('Runoob', 'Google')\n",
    "Hello Runoob\n",
    "错误！函数只能接收一个参数。"
   ]
  },
  {
   "cell_type": "markdown",
   "metadata": {},
   "source": [
    "5.关于递归函数描述正确的是？\n",
    "\n",
    "递归函数可以调用程序的使用函数。\n",
    "递归函数用于调用函数的本身。\n",
    "递归函数除了函数本身，可以调用程序的其他所有函数。\n",
    "Python 中没有递归函数。"
   ]
  },
  {
   "cell_type": "markdown",
   "metadata": {},
   "source": [
    "6.\n",
    "result = lambda x: x * x\n",
    "print(result(5))\n",
    "以上代码输出结果为？\n",
    "\n",
    "lambda x: x*x\n",
    "10\n",
    "25\n",
    "5*5"
   ]
  },
  {
   "cell_type": "markdown",
   "metadata": {},
   "source": [
    "7.\n",
    "def Foo(x):\n",
    "    if (x==1):\n",
    "        return 1\n",
    "    else:\n",
    "        return x+Foo(x-1)\n",
    "\n",
    "print(Foo(4))\n",
    "以上代码输出结果为？\n",
    "\n",
    "10\n",
    "24\n",
    "7\n",
    "1"
   ]
  },
  {
   "cell_type": "markdown",
   "metadata": {},
   "source": [
    "8.如果我们需要从 math 模块中输出 pi 常量，以下代码正确的是？\n",
    "\n",
    "A.print(math.pi)\n",
    "B.print(pi)\n",
    "C.from math import pi\n",
    "  print(pi)\n",
    "D.from math import pi\n",
    "  print(math.pi)"
   ]
  },
  {
   "cell_type": "markdown",
   "metadata": {},
   "source": [
    "9.\n",
    "以下哪个符号用于从包中导入模块？\n",
    "\n",
    ".\n",
    "*\n",
    "->\n",
    ","
   ]
  },
  {
   "cell_type": "markdown",
   "metadata": {},
   "source": []
  },
  {
   "cell_type": "code",
   "execution_count": null,
   "metadata": {},
   "outputs": [],
   "source": []
  }
 ],
 "metadata": {
  "kernelspec": {
   "display_name": "Python 3",
   "language": "python",
   "name": "python3"
  },
  "language_info": {
   "codemirror_mode": {
    "name": "ipython",
    "version": 3
   },
   "file_extension": ".py",
   "mimetype": "text/x-python",
   "name": "python",
   "nbconvert_exporter": "python",
   "pygments_lexer": "ipython3",
   "version": "3.6.9"
  }
 },
 "nbformat": 4,
 "nbformat_minor": 2
}
