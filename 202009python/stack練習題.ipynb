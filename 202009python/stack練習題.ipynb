{
 "metadata": {
  "language_info": {
   "codemirror_mode": {
    "name": "ipython",
    "version": 3
   },
   "file_extension": ".py",
   "mimetype": "text/x-python",
   "name": "python",
   "nbconvert_exporter": "python",
   "pygments_lexer": "ipython3",
   "version": "3.7.5-final"
  },
  "orig_nbformat": 2,
  "kernelspec": {
   "name": "python3",
   "display_name": "Python 3",
   "language": "python"
  }
 },
 "nbformat": 4,
 "nbformat_minor": 2,
 "cells": [
  {
   "cell_type": "code",
   "execution_count": 4,
   "metadata": {},
   "outputs": [],
   "source": [
    "# Remove Outermost Parentheses\n",
    "s = \"(()())(())\"\n",
    "res,count = [],0\n",
    "for i in s:\n",
    "    if  i==\"(\" and count >0:\n",
    "        res.append(i)\n",
    "    if i==\")\"  and count >1:\n",
    "        res.append(i)\n",
    "    count += 1 if i==\"(\" else -1\n",
    "    \n",
    "        "
   ]
  },
  {
   "cell_type": "code",
   "execution_count": 12,
   "metadata": {},
   "outputs": [],
   "source": [
    "#Remove All Adjacent Duplicates In String\n",
    "s =  \"abbacabc\"\n",
    "stack = []\n",
    "res=''\n",
    "for i in s:\n",
    "    if not stack:\n",
    "        stack.append(i)\n",
    "    elif i==stack[-1]:\n",
    "        stack.pop()\n",
    "    else:\n",
    "        stack.append(i)\n",
    "while stack:\n",
    "    res = stack.pop() +res"
   ]
  },
  {
   "cell_type": "code",
   "execution_count": 13,
   "metadata": {},
   "outputs": [
    {
     "output_type": "execute_result",
     "data": {
      "text/plain": [
       "'cabc'"
      ]
     },
     "metadata": {},
     "execution_count": 13
    }
   ],
   "source": [
    "res"
   ]
  },
  {
   "cell_type": "code",
   "execution_count": 18,
   "metadata": {},
   "outputs": [],
   "source": [
    "#\n",
    "target =[1,3,4]\n",
    "n = 4\n",
    "j=1\n",
    "res = []\n",
    "for i in target:\n",
    "    while j<i:\n",
    "        res.extend([\"Push\",\"Pop\"])\n",
    "        j+=1 \n",
    "    res.append(\"Push\")\n",
    "    j+=1\n",
    "    "
   ]
  },
  {
   "cell_type": "code",
   "execution_count": 19,
   "metadata": {},
   "outputs": [
    {
     "output_type": "execute_result",
     "data": {
      "text/plain": [
       "['Push', 'Push', 'Pop', 'Push', 'Push']"
      ]
     },
     "metadata": {},
     "execution_count": 19
    }
   ],
   "source": [
    "res"
   ]
  },
  {
   "cell_type": "code",
   "execution_count": 31,
   "metadata": {},
   "outputs": [
    {
     "output_type": "execute_result",
     "data": {
      "text/plain": [
       "27"
      ]
     },
     "metadata": {},
     "execution_count": 31
    }
   ],
   "source": [
    "#682. Baseball Game\n",
    "ops = [\"5\",\"-2\",\"4\",\"C\",\"D\",\"9\",\"+\",\"+\"]\n",
    "res = []\n",
    "for i in ops:\n",
    "    if i ==\"C\":\n",
    "        res.pop()\n",
    "    elif i ==\"D\":\n",
    "        res.append(res[-1]*2)\n",
    "    elif i ==\"+\":\n",
    "        res.append(sum(res[-2:]))\n",
    "    else:\n",
    "        res.append(int(i))\n",
    "sum(res)"
   ]
  },
  {
   "cell_type": "code",
   "execution_count": 32,
   "metadata": {},
   "outputs": [
    {
     "output_type": "execute_result",
     "data": {
      "text/plain": [
       "<map at 0x259a54b0c48>"
      ]
     },
     "metadata": {},
     "execution_count": 32
    }
   ],
   "source": [
    "# Next Greater Element I O(m*n)\n",
    "nums1 = [4,1,2]\n",
    "nums2 = [1,3,4,2]\n",
    "def helper(num):\n",
    "    for tmp in nums2[nums2.index(num):]:\n",
    "        if tmp > num:\n",
    "            return tmp\n",
    "    return -1\n",
    "map(helper, nums1) "
   ]
  },
  {
   "cell_type": "code",
   "execution_count": 33,
   "metadata": {},
   "outputs": [
    {
     "output_type": "execute_result",
     "data": {
      "text/plain": [
       "[-1, 3, -1]"
      ]
     },
     "metadata": {},
     "execution_count": 33
    }
   ],
   "source": [
    "list(map(helper, nums1))"
   ]
  },
  {
   "cell_type": "code",
   "execution_count": 36,
   "metadata": {},
   "outputs": [
    {
     "output_type": "execute_result",
     "data": {
      "text/plain": [
       "[-1, 3, -1]"
      ]
     },
     "metadata": {},
     "execution_count": 36
    }
   ],
   "source": [
    "# Next Greater Element I O(m+n)\n",
    "nums1 = [4,1,2]\n",
    "nums2 = [1,3,4,2]\n",
    "result = {}\n",
    "stack = []\n",
    "for i in nums2:\n",
    "    if not stack or stack[-1] > i:\n",
    "        stack.append(i)\n",
    "    else:\n",
    "        while stack and stack[-1]<i:\n",
    "            result[stack[-1]] =i\n",
    "            stack.pop()\n",
    "        stack.append(i)\n",
    "[result.get(i,-1) for i in nums1]"
   ]
  },
  {
   "cell_type": "code",
   "execution_count": 40,
   "metadata": {},
   "outputs": [
    {
     "output_type": "execute_result",
     "data": {
      "text/plain": [
       "'leetcode'"
      ]
     },
     "metadata": {},
     "execution_count": 40
    }
   ],
   "source": [
    "#1544. Make The String Great\n",
    "s = \"leEeetcode\"\n",
    "stack = []\n",
    "for i in s:\n",
    "    if stack and i.upper() ==stack[-1].upper() and stack[-1]!=i:\n",
    "        stack.pop()\n",
    "    else:\n",
    "        stack.append(i)\n",
    "''.join(stack)"
   ]
  },
  {
   "cell_type": "code",
   "execution_count": 45,
   "metadata": {},
   "outputs": [
    {
     "output_type": "error",
     "ename": "SyntaxError",
     "evalue": "'return' outside function (<ipython-input-45-bf8fec5b64da>, line 9)",
     "traceback": [
      "\u001b[1;36m  File \u001b[1;32m\"<ipython-input-45-bf8fec5b64da>\"\u001b[1;36m, line \u001b[1;32m9\u001b[0m\n\u001b[1;33m    return False\u001b[0m\n\u001b[1;37m    ^\u001b[0m\n\u001b[1;31mSyntaxError\u001b[0m\u001b[1;31m:\u001b[0m 'return' outside function\n"
     ]
    }
   ],
   "source": [
    "#Valid Parentheses\n",
    "s = \"([)]\"\n",
    "stack = []\n",
    "for i in s:\n",
    "    if i in '({[':\n",
    "        stack.append(i)\n",
    "    else:\n",
    "        if not stack:\n",
    "            return False\n",
    "        elif i!= ')}]'[')}]'.index(stack.pop())] :\n",
    "            return False\n",
    "        "
   ]
  },
  {
   "cell_type": "code",
   "execution_count": 44,
   "metadata": {},
   "outputs": [
    {
     "output_type": "execute_result",
     "data": {
      "text/plain": [
       "1"
      ]
     },
     "metadata": {},
     "execution_count": 44
    }
   ],
   "source": [
    "D.popleft()"
   ]
  },
  {
   "cell_type": "code",
   "execution_count": 1,
   "metadata": {},
   "outputs": [],
   "source": [
    "# 921. Minimum Add to Make Parentheses Valid\n",
    "s = \"()))((\"\n",
    "stack = []\n",
    "count = 0\n",
    "for i in s:\n",
    "    if i ==\"(\":\n",
    "        stack.append(i)\n",
    "    else:\n",
    "        if not stack: # 空棧\n",
    "            count+=1\n",
    "        else:\n",
    "            stack.pop()\n",
    "while stack:\n",
    "    stack.pop()\n",
    "    count+=1\n"
   ]
  },
  {
   "cell_type": "code",
   "execution_count": 5,
   "metadata": {},
   "outputs": [
    {
     "output_type": "execute_result",
     "data": {
      "text/plain": [
       "4"
      ]
     },
     "metadata": {},
     "execution_count": 5
    }
   ],
   "source": [
    "s = \"()))((\"\n",
    "count = 0\n",
    "open = 0\n",
    "for i in s:\n",
    "    if i=='(':\n",
    "        open+=1\n",
    "    else:\n",
    "        if open>0:\n",
    "            open-=1\n",
    "        else:\n",
    "            count+=1\n",
    "count+open"
   ]
  },
  {
   "cell_type": "code",
   "execution_count": 8,
   "metadata": {},
   "outputs": [],
   "source": [
    "#739. Daily Temperatures\n",
    "T = [73, 74, 75, 71, 69, 72, 76, 73]\n",
    "# your output should be [1, 1, 4, 2, 1, 1, 0, 0].\n",
    "stack = []\n",
    "res = [0] * len(T)\n",
    "for i in range(len(T)-1,-1,-1):\n",
    "    while stack and T[i]>=T[stack[-1]]: #單調棧\n",
    "        stack.pop()\n",
    "    if stack:\n",
    "        res[i] = stack[-1]-i\n",
    "    stack.append(i)"
   ]
  },
  {
   "cell_type": "code",
   "execution_count": 9,
   "metadata": {},
   "outputs": [
    {
     "output_type": "execute_result",
     "data": {
      "text/plain": [
       "[1, 1, 4, 2, 1, 1, 0, 0]"
      ]
     },
     "metadata": {},
     "execution_count": 9
    }
   ],
   "source": [
    "res"
   ]
  },
  {
   "cell_type": "code",
   "execution_count": 2,
   "metadata": {},
   "outputs": [],
   "source": [
    "#1190. Reverse Substrings Between Each Pair of Parentheses\n",
    "s = \"(ed(et(oc))el)\"\n",
    "stack = []\n",
    "cur,res = '',''\n",
    "for i in s:\n",
    "    if i == '(':\n",
    "        stack.append(cur)\n",
    "        cur = ''\n",
    "    elif i == ')':\n",
    "        cur = stack.pop() + cur[::-1]\n",
    "    else:\n",
    "        cur+=i"
   ]
  },
  {
   "cell_type": "code",
   "execution_count": 3,
   "metadata": {},
   "outputs": [
    {
     "output_type": "execute_result",
     "data": {
      "text/plain": [
       "'leetcode'"
      ]
     },
     "metadata": {},
     "execution_count": 3
    }
   ],
   "source": [
    "cur"
   ]
  },
  {
   "cell_type": "code",
   "execution_count": 4,
   "metadata": {},
   "outputs": [],
   "source": [
    "#946. Validate Stack Sequences\n",
    "pushed = [1,2,3,4,5]\n",
    "popped = [4,3,5,1,2]\n",
    "stack = []\n",
    "j = 0\n",
    "for i in range(len(pushed)):\n",
    "    stack.append(pushed[i])\n",
    "    while stack and stack[-1] == popped[j] and j<len(popped):\n",
    "        stack.pop()\n",
    "        j+=1\n",
    "    "
   ]
  },
  {
   "cell_type": "code",
   "execution_count": 5,
   "metadata": {},
   "outputs": [
    {
     "output_type": "execute_result",
     "data": {
      "text/plain": [
       "[1, 2]"
      ]
     },
     "metadata": {},
     "execution_count": 5
    }
   ],
   "source": [
    "stack"
   ]
  },
  {
   "cell_type": "code",
   "execution_count": 21,
   "metadata": {},
   "outputs": [
    {
     "output_type": "execute_result",
     "data": {
      "text/plain": [
       "[2]"
      ]
     },
     "metadata": {},
     "execution_count": 21
    }
   ],
   "source": [
    "#856. Score of Parentheses\n",
    "s = \"(())\"\n",
    "stack = [0]\n",
    "for i in s:\n",
    "    if i ==\"(\":\n",
    "        stack.append(0)\n",
    "    else:\n",
    "        v = stack.pop()\n",
    "        stack[-1] +=max(2*v,1)\n",
    "stack"
   ]
  },
  {
   "cell_type": "code",
   "execution_count": 16,
   "metadata": {},
   "outputs": [
    {
     "output_type": "execute_result",
     "data": {
      "text/plain": [
       "[2, 5, 7, 9, -1, 5, 2]"
      ]
     },
     "metadata": {},
     "execution_count": 16
    }
   ],
   "source": [
    "#503. Next Greater Element II O(n^2)\n",
    "L = [1,2,5,7,9,2,1] # Output: [2,5,7,9,-1,5,2]\n",
    "res = []\n",
    "for idx,val in enumerate(L):\n",
    "    tmp = L[idx+1:] + L[:idx+1]\n",
    "    for j in tmp:\n",
    "        if j>val:\n",
    "            res.append(j)\n",
    "            break\n",
    "    else:\n",
    "        res.append(-1)\n",
    "res"
   ]
  },
  {
   "cell_type": "code",
   "execution_count": 17,
   "metadata": {},
   "outputs": [],
   "source": [
    "#503. Next Greater Element II O(n)\n",
    "L = [3,2,5,7,9,2,1] # Output: [2,5,7,9,-1,5,2]\n",
    "stack = []\n",
    "res = [-1]*len(L)\n",
    "for i in range(len(L)*2):\n",
    "    while stack and (L[stack[-1]]<L[i%len(L)]):\n",
    "        res[stack.pop()] = L[i%len(L)]\n",
    "    stack.append(i%len(L))"
   ]
  },
  {
   "cell_type": "code",
   "execution_count": 18,
   "metadata": {},
   "outputs": [
    {
     "output_type": "execute_result",
     "data": {
      "text/plain": [
       "[5, 5, 7, 9, -1, 3, 3]"
      ]
     },
     "metadata": {},
     "execution_count": 18
    }
   ],
   "source": [
    "res"
   ]
  },
  {
   "cell_type": "code",
   "execution_count": 35,
   "metadata": {},
   "outputs": [
    {
     "output_type": "execute_result",
     "data": {
      "text/plain": [
       "'abcd'"
      ]
     },
     "metadata": {},
     "execution_count": 35
    }
   ],
   "source": [
    "#1209. Remove All Adjacent Duplicates in String II\n",
    "s = \"abcd\"\n",
    "k = 3\n",
    "stack = []\n",
    "res =''\n",
    "for i in s:\n",
    "    if not stack or stack[-1][0] != i:\n",
    "        stack.append([i,1])\n",
    "    else:\n",
    "        if stack and stack[-1][0] ==i:\n",
    "            stack[-1][1]+=1\n",
    "            if stack[-1][1]==k:\n",
    "                stack.pop()\n",
    "for item,count in stack:\n",
    "    res+=item*count\n",
    "res"
   ]
  },
  {
   "cell_type": "code",
   "execution_count": 36,
   "metadata": {},
   "outputs": [
    {
     "output_type": "execute_result",
     "data": {
      "text/plain": [
       "''"
      ]
     },
     "metadata": {},
     "execution_count": 36
    }
   ],
   "source": [
    "s ='abcabc'\n",
    "stack = []\n",
    "for i in s:\n",
    "    if i =='c':\n",
    "        if stack[-2]!=[\"a\",\"b\"]:\n",
    "            return False\n",
    "        else:\n",
    "            stack.pop()\n",
    "            stack.pop()\n",
    "    else:\n",
    "        stack.append(i)"
   ]
  },
  {
   "cell_type": "code",
   "execution_count": 44,
   "metadata": {},
   "outputs": [
    {
     "output_type": "execute_result",
     "data": {
      "text/plain": [
       "'\"; is an HTML entity but &ambassador; is not.'"
      ]
     },
     "metadata": {},
     "execution_count": 44
    }
   ],
   "source": [
    "text = \"&quot;; is an HTML entity but &ambassador; is not.\"\n",
    "text.replace(\"&quot;\",r'\"').replace(\"&apos\",r\"'\").replace(\"&amp\",\"&\").replace(\"&gt\",'>').replace(\"&lt\",'<').replace(\"&frasl\",'/')"
   ]
  },
  {
   "cell_type": "code",
   "execution_count": 55,
   "metadata": {},
   "outputs": [
    {
     "output_type": "execute_result",
     "data": {
      "text/plain": [
       "[1, 4, 6, 7, 8, 9]"
      ]
     },
     "metadata": {},
     "execution_count": 55
    }
   ],
   "source": [
    "# nested l\n",
    "res = []\n",
    "l = [1,[4,[6,[7,8,9]]]]\n",
    "def func(l):\n",
    "    for i in range(len(l)):\n",
    "        if type(l[i]) ==int:    \n",
    "            res.append(l[i])\n",
    "        else:\n",
    "            func(l[i])\n",
    "    return res\n",
    "func(l)"
   ]
  },
  {
   "cell_type": "code",
   "execution_count": 57,
   "metadata": {},
   "outputs": [
    {
     "output_type": "execute_result",
     "data": {
      "text/plain": [
       "[3, 4]"
      ]
     },
     "metadata": {},
     "execution_count": 57
    }
   ],
   "source": [
    "#636. Exclusive Time of Functions\n",
    "n=2\n",
    "logs = [\"0:start:0\",\"1:start:2\",\"1:end:5\",\"0:end:6\"]\n",
    "res = [0]*n\n",
    "stack = []\n",
    "for log in logs:\n",
    "    ID, op, time = log.split(':')\n",
    "    ID = int(ID)\n",
    "    time = int(time)\n",
    "    if op == 'start':\n",
    "        if stack:\n",
    "            res[stack[-1][0]] += time-stack[-1][1]\n",
    "        stack.append([ID, time])\n",
    "    else:\n",
    "        prev = stack.pop()\n",
    "        res[ID] += time-prev[1]+1\n",
    "        if stack:\n",
    "            stack[-1][1] = time+1\n",
    "res"
   ]
  },
  {
   "cell_type": "code",
   "execution_count": 85,
   "metadata": {},
   "outputs": [],
   "source": [
    "#316. Remove Duplicate Letters\n",
    "import collections\n",
    "s = \"cbacdcbc\"\n",
    "c =  collections.Counter(s)\n",
    "stack = []\n",
    "for i in s:\n",
    "    c[i]-=1\n",
    "    if i in stack:\n",
    "        continue\n",
    "    while stack and stack[-1]>i and c[stack[-1]]:\n",
    "        stack.pop()\n",
    "    stack.append(i)"
   ]
  },
  {
   "cell_type": "code",
   "execution_count": 86,
   "metadata": {},
   "outputs": [
    {
     "output_type": "execute_result",
     "data": {
      "text/plain": [
       "['a', 'c', 'd', 'b']"
      ]
     },
     "metadata": {},
     "execution_count": 86
    }
   ],
   "source": [
    "stack"
   ]
  },
  {
   "cell_type": "code",
   "execution_count": 21,
   "metadata": {},
   "outputs": [
    {
     "output_type": "execute_result",
     "data": {
      "text/plain": [
       "'leetcodeleetcodeleetcodeleetcodeleetcodeleetcodeleetcodeleetcodeleetcodeleetcode'"
      ]
     },
     "metadata": {},
     "execution_count": 21
    }
   ],
   "source": [
    "#394. Decode String\n",
    "s = \"10[leetcode]\"\n",
    "cur,stack,num = '',[], 0\n",
    "stack2 = []\n",
    "for i in s:\n",
    "    if i.isdigit():\n",
    "        num = num*10 + int(i)\n",
    "    elif i =='[':\n",
    "        stack2.append(num)\n",
    "        stack.append(cur)\n",
    "        cur ,num= '' , 0\n",
    "    elif i ==']':\n",
    "        cur =  stack.pop() + stack2.pop()*cur\n",
    "    else:\n",
    "        cur+=i\n",
    "cur"
   ]
  },
  {
   "cell_type": "code",
   "execution_count": 25,
   "metadata": {},
   "outputs": [],
   "source": [
    "import re\n",
    "s = re.sub(r'(\\d+)\\[([a-z]*)\\]', lambda m: int(m.group(1)) * m.group(2), s)"
   ]
  },
  {
   "cell_type": "code",
   "execution_count": 35,
   "metadata": {},
   "outputs": [
    {
     "output_type": "execute_result",
     "data": {
      "text/plain": [
       "'aabbb'"
      ]
     },
     "metadata": {},
     "execution_count": 35
    }
   ],
   "source": [
    "s = \"2[a]3[b]\"\n",
    "s = re.sub(r'(\\d+)\\[([a-z]*)\\]',lambda m:int(m.group(1))*m.group(2),s)\n",
    "s"
   ]
  },
  {
   "cell_type": "code",
   "execution_count": 41,
   "metadata": {},
   "outputs": [
    {
     "output_type": "execute_result",
     "data": {
      "text/plain": [
       "3"
      ]
     },
     "metadata": {},
     "execution_count": 41
    }
   ],
   "source": [
    "#1541. Minimum Insertions to Balance a Parentheses String\n",
    "s = \"()())))()\"\n",
    "res = right = 0\n",
    "for i in s:\n",
    "    if i ==\"(\":\n",
    "        right+=2\n",
    "        if right%2:\n",
    "            res+=1\n",
    "            right-=1\n",
    "    else:\n",
    "        right-=1\n",
    "        if right<0:\n",
    "            res+=1\n",
    "            right+=2\n",
    "res+right"
   ]
  },
  {
   "cell_type": "code",
   "execution_count": 11,
   "metadata": {},
   "outputs": [
    {
     "output_type": "stream",
     "name": "stdout",
     "text": [
      "l\n"
     ]
    }
   ],
   "source": [
    "#880. Decoded String at Index\n",
    "S = \"leet2code3\"\n",
    "K = 5\n",
    "size = 0 \n",
    "for i in S:\n",
    "    if i.isdigit():\n",
    "        size*=int(i)\n",
    "    else:\n",
    "        size+=1\n",
    "for i in S[::-1]:\n",
    "    K%=size\n",
    "    if K ==0 and i.isalpha():\n",
    "        print(i)\n",
    "        break\n",
    "    if i.isdigit():\n",
    "        size//=int(i)\n",
    "    else:\n",
    "        size-=1"
   ]
  },
  {
   "cell_type": "code",
   "execution_count": null,
   "metadata": {},
   "outputs": [],
   "source": []
  }
 ]
}