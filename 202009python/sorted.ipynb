{
 "metadata": {
  "language_info": {
   "codemirror_mode": {
    "name": "ipython",
    "version": 3
   },
   "file_extension": ".py",
   "mimetype": "text/x-python",
   "name": "python",
   "nbconvert_exporter": "python",
   "pygments_lexer": "ipython3",
   "version": "3.7.1-final"
  },
  "orig_nbformat": 2,
  "kernelspec": {
   "name": "python3",
   "display_name": "Python 3",
   "language": "python"
  }
 },
 "nbformat": 4,
 "nbformat_minor": 2,
 "cells": [
  {
   "cell_type": "code",
   "execution_count": 1,
   "metadata": {},
   "outputs": [
    {
     "output_type": "stream",
     "name": "stdout",
     "text": [
      "{'A': [-5, 0, 0, 0, 0, 'A'], 'B': [0, -2, -3, 0, 0, 'B'], 'C': [0, -3, -2, 0, 0, 'C']}\n"
     ]
    },
    {
     "output_type": "execute_result",
     "data": {
      "text/plain": [
       "['A', 'C', 'B']"
      ]
     },
     "metadata": {},
     "execution_count": 1
    }
   ],
   "source": [
    "#Rank Teams by Votes\n",
    "#Input: \n",
    "votes = [\"ABC\",\"ACB\",\"ABC\",\"ACB\",\"ACB\"] # Output: \"ACB\"\n",
    "d = {c:[0]*len(votes)+[c] for c in votes[0]}\n",
    "for vote in votes:\n",
    "    for idx,val in enumerate(vote):\n",
    "        d[val][idx]-=1\n",
    "print(d)\n",
    "sorted(votes[0],key=d.get)"
   ]
  },
  {
   "cell_type": "code",
   "execution_count": 2,
   "metadata": {},
   "outputs": [
    {
     "output_type": "execute_result",
     "data": {
      "text/plain": [
       "[0, 0, 1, 1, 2, 2]"
      ]
     },
     "metadata": {},
     "execution_count": 2
    }
   ],
   "source": [
    "#75. Sort Colors O(n)\n",
    "#Input:\n",
    "nums = [2,0,2,1,1,0]\n",
    "#Output: [0,0,1,1,2,2]\n",
    "i,j,k = 0,0,len(nums)-1\n",
    "while j<=k:\n",
    "    if i<j and nums[j] ==0:\n",
    "        nums[i],nums[j] = nums[j],nums[i]\n",
    "        i+=1\n",
    "    elif nums[j] ==2:\n",
    "        nums[k],nums[j] = nums[j],nums[k]\n",
    "        k-=1\n",
    "    else:\n",
    "        j+=1\n",
    "nums"
   ]
  },
  {
   "cell_type": "code",
   "execution_count": 3,
   "metadata": {},
   "outputs": [
    {
     "output_type": "execute_result",
     "data": {
      "text/plain": [
       "[{'x': 10, 'y': 71},\n",
       " {'x': 20, 'y': 55},\n",
       " {'x': 30, 'y': 50},\n",
       " {'x': 40, 'y': 65},\n",
       " {'x': 50, 'y': 95},\n",
       " {'x': 60, 'y': 68},\n",
       " {'x': 70, 'y': 28},\n",
       " {'x': 80, 'y': 34},\n",
       " {'x': 90, 'y': 14}]"
      ]
     },
     "metadata": {},
     "execution_count": 3
    }
   ],
   "source": [
    "a = [10,20,30,40,50,60,70,80,90]\n",
    "b = [71,55,50,65,95,68,28,34,14]\n",
    "\n",
    "[{\"x\":x,\"y\":y} for x,y in zip(a,b)]"
   ]
  },
  {
   "cell_type": "code",
   "execution_count": 23,
   "metadata": {},
   "outputs": [
    {
     "output_type": "execute_result",
     "data": {
      "text/plain": [
       "2"
      ]
     },
     "metadata": {},
     "execution_count": 23
    }
   ],
   "source": [
    "#1288. Remove Covered Intervals\n",
    "intervals = [[1,4],[3,6],[2,8]]\n",
    "tmp = sorted(intervals,key=lambda x:(x[0],-x[1]))\n",
    "min1,max1 = tmp[0]\n",
    "count = 1\n",
    "for i in range(1,len(tmp)):\n",
    "    if tmp[i][1]>max1:\n",
    "        max1 = max(tmp[i][1],max1)\n",
    "        count+=1\n",
    "count\n"
   ]
  },
  {
   "cell_type": "code",
   "execution_count": 21,
   "metadata": {},
   "outputs": [
    {
     "output_type": "execute_result",
     "data": {
      "text/plain": [
       "[0, 1, 4]"
      ]
     },
     "metadata": {},
     "execution_count": 21
    }
   ],
   "source": [
    "#1452. People Whose List of Favorite Companies Is Not a Subset of Another List\n",
    "favoriteCompanies = [[\"leetcode\",\"google\",\"facebook\"],[\"google\",\"microsoft\"],[\"google\",\"facebook\"],[\"google\"],[\"amazon\"]]\n",
    "d= {tuple(x):y for x,y in  zip(favoriteCompanies,range(len(favoriteCompanies)))}\n",
    "tmp = sorted(favoriteCompanies,key=len,reverse=True)\n",
    "res = []\n",
    "for i in tmp:\n",
    "    falg = True\n",
    "    for j in res:\n",
    "        if set(i)&set(j) == set(i):\n",
    "            falg = False\n",
    "            break\n",
    "    if falg:\n",
    "        res.append(i)\n",
    "[d[tuple(i)] for i in res]"
   ]
  },
  {
   "cell_type": "code",
   "execution_count": 30,
   "metadata": {},
   "outputs": [
    {
     "output_type": "execute_result",
     "data": {
      "text/plain": [
       "1"
      ]
     },
     "metadata": {},
     "execution_count": 30
    }
   ],
   "source": [
    "#3. Longest Substring Without Repeating Characters\n",
    "s = \"bbbbb\"\n",
    "left = 0\n",
    "cur = 0\n",
    "res = 0\n",
    "curs = set()\n",
    "for i in range(len(s)):\n",
    "    cur+=1\n",
    "    while s[i] in  curs: #如果出現了重複的char,移動滑動窗口的左邊until 窗口内沒有這個char;\n",
    "        curs.remove(s[left])\n",
    "        cur-=1\n",
    "        left+=1\n",
    "    curs.add(s[i])\n",
    "    res = max(res,cur)"
   ]
  },
  {
   "cell_type": "code",
   "execution_count": 79,
   "metadata": {},
   "outputs": [
    {
     "output_type": "execute_result",
     "data": {
      "text/plain": [
       "1"
      ]
     },
     "metadata": {},
     "execution_count": 79
    }
   ],
   "source": [
    "#1509. Minimum Difference Between Largest and Smallest Value in Three Moves\n",
    "nums = [82,81,95,75,20]\n",
    "if len(nums)<5:\n",
    "    print(\"0\")\n",
    "nums.sort()\n",
    "min([b-a for a,b in zip(nums[:4],nums[-4:])])"
   ]
  },
  {
   "cell_type": "code",
   "execution_count": 80,
   "metadata": {},
   "outputs": [
    {
     "output_type": "execute_result",
     "data": {
      "text/plain": [
       "2"
      ]
     },
     "metadata": {},
     "execution_count": 80
    }
   ],
   "source": [
    "#1647. Minimum Deletions to Make Character Frequencies Unique\n",
    "s = \"aaabbbcc\"\n",
    "from collections import Counter\n",
    "c = Counter(s)\n",
    "s = set()\n",
    "res = 0\n",
    "for i in c.values():\n",
    "    while i in s and i>0:\n",
    "        res+=1\n",
    "        i-=1\n",
    "    s.add(i)\n",
    "res"
   ]
  },
  {
   "cell_type": "code",
   "execution_count": 84,
   "metadata": {},
   "outputs": [],
   "source": [
    "#948. Bag of Tokens\n",
    "tokens = [100,200,300,400,500,600]\n",
    "P = 200\n",
    "score = 0\n",
    "tokens.sort()\n",
    "i,j = 0,len(tokens)-1\n",
    "cur = 0\n",
    "while i<=j:\n",
    "    if P>=tokens[i]:\n",
    "        P-=tokens[i]\n",
    "        i+=1\n",
    "        cur+=1\n",
    "        res = max(cur,res)\n",
    "    elif cur:\n",
    "        P+=tokens[j]\n",
    "        j-=1\n",
    "        cur-=1\n",
    "   "
   ]
  },
  {
   "cell_type": "code",
   "execution_count": null,
   "metadata": {},
   "outputs": [],
   "source": []
  }
 ]
}