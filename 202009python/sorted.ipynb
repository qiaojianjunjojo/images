{
 "metadata": {
  "language_info": {
   "codemirror_mode": {
    "name": "ipython",
    "version": 3
   },
   "file_extension": ".py",
   "mimetype": "text/x-python",
   "name": "python",
   "nbconvert_exporter": "python",
   "pygments_lexer": "ipython3",
   "version": "3.7.1-final"
  },
  "orig_nbformat": 2,
  "kernelspec": {
   "name": "python3",
   "display_name": "Python 3",
   "language": "python"
  }
 },
 "nbformat": 4,
 "nbformat_minor": 2,
 "cells": [
  {
   "cell_type": "code",
   "execution_count": 1,
   "metadata": {},
   "outputs": [
    {
     "output_type": "stream",
     "name": "stdout",
     "text": [
      "{'A': [-5, 0, 0, 0, 0, 'A'], 'B': [0, -2, -3, 0, 0, 'B'], 'C': [0, -3, -2, 0, 0, 'C']}\n"
     ]
    },
    {
     "output_type": "execute_result",
     "data": {
      "text/plain": [
       "['A', 'C', 'B']"
      ]
     },
     "metadata": {},
     "execution_count": 1
    }
   ],
   "source": [
    "#Rank Teams by Votes\n",
    "#Input: \n",
    "votes = [\"ABC\",\"ACB\",\"ABC\",\"ACB\",\"ACB\"] # Output: \"ACB\"\n",
    "d = {c:[0]*len(votes)+[c] for c in votes[0]}\n",
    "for vote in votes:\n",
    "    for idx,val in enumerate(vote):\n",
    "        d[val][idx]-=1\n",
    "print(d)\n",
    "sorted(votes[0],key=d.get)"
   ]
  },
  {
   "cell_type": "code",
   "execution_count": 2,
   "metadata": {},
   "outputs": [
    {
     "output_type": "execute_result",
     "data": {
      "text/plain": [
       "[0, 0, 1, 1, 2, 2]"
      ]
     },
     "metadata": {},
     "execution_count": 2
    }
   ],
   "source": [
    "#75. Sort Colors O(n)\n",
    "#Input:\n",
    "nums = [2,0,2,1,1,0]\n",
    "#Output: [0,0,1,1,2,2]\n",
    "i,j,k = 0,0,len(nums)-1\n",
    "while j<=k:\n",
    "    if i<j and nums[j] ==0:\n",
    "        nums[i],nums[j] = nums[j],nums[i]\n",
    "        i+=1\n",
    "    elif nums[j] ==2:\n",
    "        nums[k],nums[j] = nums[j],nums[k]\n",
    "        k-=1\n",
    "    else:\n",
    "        j+=1\n",
    "nums"
   ]
  },
  {
   "cell_type": "code",
   "execution_count": 3,
   "metadata": {},
   "outputs": [
    {
     "output_type": "execute_result",
     "data": {
      "text/plain": [
       "[{'x': 10, 'y': 71},\n",
       " {'x': 20, 'y': 55},\n",
       " {'x': 30, 'y': 50},\n",
       " {'x': 40, 'y': 65},\n",
       " {'x': 50, 'y': 95},\n",
       " {'x': 60, 'y': 68},\n",
       " {'x': 70, 'y': 28},\n",
       " {'x': 80, 'y': 34},\n",
       " {'x': 90, 'y': 14}]"
      ]
     },
     "metadata": {},
     "execution_count": 3
    }
   ],
   "source": [
    "a = [10,20,30,40,50,60,70,80,90]\n",
    "b = [71,55,50,65,95,68,28,34,14]\n",
    "\n",
    "[{\"x\":x,\"y\":y} for x,y in zip(a,b)]"
   ]
  },
  {
   "cell_type": "code",
   "execution_count": 11,
   "metadata": {},
   "outputs": [
    {
     "output_type": "execute_result",
     "data": {
      "text/plain": [
       "2"
      ]
     },
     "metadata": {},
     "execution_count": 11
    }
   ],
   "source": [
    "#1288. Remove Covered Intervals\n",
    "intervals = [[1,2],[1,4],[3,4]]\n",
    "tmp = sorted(intervals,key=lambda x:(x[0],-x[1]))\n",
    "min1,max1 = intervals[0]\n",
    "count = 1\n",
    "for i in range(1,len(tmp)):\n",
    "    if tmp[i][0]>=min1 and tmp[i][1]<=max1:\n",
    "        max1 = max(tmp[i][1],max1)\n",
    "        continue\n",
    "    else:\n",
    "        count+=1\n",
    "count"
   ]
  },
  {
   "cell_type": "code",
   "execution_count": 13,
   "metadata": {},
   "outputs": [
    {
     "output_type": "execute_result",
     "data": {
      "text/plain": [
       "[[1, 4], [1, 2], [3, 4]]"
      ]
     },
     "metadata": {},
     "execution_count": 13
    }
   ],
   "source": [
    "tmp = sorted(intervals,key=lambda x:(x[0],-x[1]))\n",
    "tmp"
   ]
  },
  {
   "cell_type": "code",
   "execution_count": null,
   "metadata": {},
   "outputs": [],
   "source": []
  }
 ]
}