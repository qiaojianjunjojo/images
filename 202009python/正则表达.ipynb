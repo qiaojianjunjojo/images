{
 "cells": [
  {
   "cell_type": "markdown",
   "metadata": {},
   "source": [
    "# re.match函数"
   ]
  },
  {
   "cell_type": "markdown",
   "metadata": {},
   "source": [
    "re.match 尝试从字符串的起始位置匹配一个模式，如果不是起始位置匹配成功的话，match()就返回none。"
   ]
  },
  {
   "cell_type": "code",
   "execution_count": null,
   "metadata": {},
   "outputs": [],
   "source": [
    "import re\n",
    "print(re.match('www', 'www.runoob.com').span())  # 在起始位置匹配\n",
    "print(re.match('com', 'www.runoob.com'))         # 不在起始位置匹配"
   ]
  },
  {
   "cell_type": "code",
   "execution_count": null,
   "metadata": {},
   "outputs": [],
   "source": [
    "re.match('www', 'www.runoob.com').group()"
   ]
  },
  {
   "cell_type": "code",
   "execution_count": null,
   "metadata": {},
   "outputs": [],
   "source": []
  },
  {
   "cell_type": "code",
   "execution_count": null,
   "metadata": {},
   "outputs": [],
   "source": [
    "line = \"Cats are smarter than dogs\"\n",
    " \n",
    "matchObj = re.match( r'(.*) are (.*?) .*', line, re.M|re.I)\n",
    " \n",
    "if matchObj:\n",
    "   print(\"matchObj.group() : \", matchObj.group())\n",
    "   print(\"matchObj.group(1) : \", matchObj.group(1))\n",
    "   print(\"matchObj.group(2) : \", matchObj.group(2))\n",
    "else:\n",
    "   print(\"No match!!\")"
   ]
  },
  {
   "cell_type": "code",
   "execution_count": null,
   "metadata": {},
   "outputs": [],
   "source": [
    "import re\n",
    "print(re.search('www', 'www.runoob.www.com').span())  # 在起始位置匹配,只匹配第一个www\n",
    "print(re.search('com', 'www.runoob.com').span())         # 不在起始位置匹配"
   ]
  },
  {
   "cell_type": "code",
   "execution_count": null,
   "metadata": {},
   "outputs": [],
   "source": [
    "re.search('www', 'www.runoob.com').group()"
   ]
  },
  {
   "cell_type": "code",
   "execution_count": null,
   "metadata": {},
   "outputs": [],
   "source": [
    "import re\n",
    "string = \"臥槽,這是什麽吊東西!我操了，我日啊！\"\n",
    " \n",
    "num = re.sub(r'[臥槽|吊|操|日]', \"*\", string)\n",
    "print(\"和諧后: \", num)\n",
    " \n",
    "phone = \"2004-959-559 # 这是一个电话号码\"\n",
    "num = re.sub(r'\\D', \"\", phone) # 將所有非數字的内容刪除\n",
    "print(\"电话号码是 : \", num)"
   ]
  },
  {
   "cell_type": "code",
   "execution_count": null,
   "metadata": {},
   "outputs": [],
   "source": [
    "import re\n",
    "pattern = re.compile(r'([a-z]+) ([a-z]+)', re.I)   # re.I 表示忽略大小写\n",
    "m = pattern.findall('www world wide web') # findall 返回所有匹配\n",
    "print(m)\n",
    "m2 = pattern.match('www world wide web') # match 匹配一次后退出； \n",
    "m2.group()"
   ]
  },
  {
   "cell_type": "code",
   "execution_count": null,
   "metadata": {},
   "outputs": [],
   "source": []
  },
  {
   "cell_type": "markdown",
   "metadata": {},
   "source": [
    "# findall\n",
    "在字符串中找到正则表达式所匹配的所有子串，并返回一个列表，如果没有找到匹配的，则返回空列表。\n",
    "\n",
    "注意： match 和 search 是匹配一次 findall 匹配所有。"
   ]
  },
  {
   "cell_type": "code",
   "execution_count": null,
   "metadata": {},
   "outputs": [],
   "source": [
    "pattern = re.compile(r'\\d+')   # 查找数字\n",
    "result1 = pattern.findall('runoob')\n",
    "result2 = pattern.findall('run88oob123google456', 0, 10)\n",
    "result3 = pattern.findall('run88oob123google456')\n",
    "print(result1)\n",
    "print(result2)\n",
    "print(result3)"
   ]
  },
  {
   "cell_type": "code",
   "execution_count": null,
   "metadata": {},
   "outputs": [],
   "source": []
  },
  {
   "cell_type": "code",
   "execution_count": 81,
   "metadata": {},
   "outputs": [],
   "source": [
    "# 和 findall 类似，在字符串中找到正则表达式所匹配的所有子串，并把它们作为一个迭代器返回。\n",
    "# 筆者這裏認爲 返回迭代器 是爲了減少内存開銷，提高python運行效率。建議參考 itertools\n",
    "import re\n",
    "pattern  = re.compile(r'[0-9]+')\n",
    "s = pattern.finditer('runoob 12 3 google 456')"
   ]
  },
  {
   "cell_type": "code",
   "execution_count": 82,
   "metadata": {
    "scrolled": true
   },
   "outputs": [
    {
     "output_type": "stream",
     "name": "stdout",
     "text": [
      "12\n3\n456\n"
     ]
    }
   ],
   "source": [
    "for match in s:\n",
    "    print(match.group())"
   ]
  },
  {
   "cell_type": "code",
   "execution_count": 68,
   "metadata": {},
   "outputs": [
    {
     "output_type": "stream",
     "name": "stdout",
     "text": [
      "12\n32\n43\n3\n"
     ]
    }
   ],
   "source": [
    "import re\n",
    "pattern = re.compile(r\"\\d+\")\n",
    "it = pattern.finditer(\"12a32bc43jf3\") \n",
    "for match in it: \n",
    "    print (match.group() )"
   ]
  },
  {
   "cell_type": "markdown",
   "metadata": {},
   "source": [
    "# re.split()"
   ]
  },
  {
   "cell_type": "code",
   "execution_count": 84,
   "metadata": {},
   "outputs": [
    {
     "output_type": "execute_result",
     "data": {
      "text/plain": [
       "['hello world']"
      ]
     },
     "metadata": {},
     "execution_count": 84
    }
   ],
   "source": [
    "re.split(r'a+', 'hello world')   # 对于一个找不到匹配的字符串而言，split 不会对其作出分割"
   ]
  },
  {
   "cell_type": "code",
   "execution_count": 85,
   "metadata": {},
   "outputs": [
    {
     "output_type": "execute_result",
     "data": {
      "text/plain": [
       "['runoob', 'runoob', 'runoob_w', '']"
      ]
     },
     "metadata": {},
     "execution_count": 85
    }
   ],
   "source": [
    "re.split('\\W+', 'runoob,, runoob, runoob_w.') #\\W非 数字字母下划线"
   ]
  },
  {
   "cell_type": "code",
   "execution_count": 86,
   "metadata": {},
   "outputs": [
    {
     "output_type": "execute_result",
     "data": {
      "text/plain": [
       "['runoob', ', ', 'runoob', ', ', 'runoob', '.', '']"
      ]
     },
     "metadata": {},
     "execution_count": 86
    }
   ],
   "source": [
    "re.split('(\\W+)', 'runoob, runoob, runoob.') "
   ]
  },
  {
   "cell_type": "code",
   "execution_count": 87,
   "metadata": {},
   "outputs": [
    {
     "output_type": "execute_result",
     "data": {
      "text/plain": [
       "['runoob', ', ', 'runoob', ', ', 'runoob', '.', '']"
      ]
     },
     "metadata": {},
     "execution_count": 87
    }
   ],
   "source": [
    "re.split('(\\W+)', 'runoob, runoob, runoob.') \n",
    "#  目前還不清楚爲什麽加上（）以後會把切割的字符串也放在結果裏 => ', ' and  '.'"
   ]
  },
  {
   "cell_type": "code",
   "execution_count": 88,
   "metadata": {},
   "outputs": [
    {
     "output_type": "execute_result",
     "data": {
      "text/plain": [
       "['runoob', 'runoob, runoob.']"
      ]
     },
     "metadata": {},
     "execution_count": 88
    }
   ],
   "source": [
    "re.split('\\W+', 'runoob, runoob, runoob.', maxsplit=1)  # 設置maxsplit"
   ]
  },
  {
   "cell_type": "code",
   "execution_count": 89,
   "metadata": {},
   "outputs": [
    {
     "output_type": "execute_result",
     "data": {
      "text/plain": [
       "['This',\n",
       " 'module',\n",
       " 'provides',\n",
       " 'regular',\n",
       " 'expression',\n",
       " 'matching',\n",
       " 'operations',\n",
       " 'similar',\n",
       " 'to',\n",
       " 'those',\n",
       " 'found',\n",
       " 'in',\n",
       " 'Perl',\n",
       " '']"
      ]
     },
     "metadata": {},
     "execution_count": 89
    }
   ],
   "source": [
    "import re\n",
    "s =  'This module provides regular expression matching operations similar to those found in Perl. '\n",
    "r = re.split(r'\\W+',s) # \\W 匹配非数字字母下划线\n",
    "r"
   ]
  },
  {
   "cell_type": "code",
   "execution_count": 90,
   "metadata": {},
   "outputs": [
    {
     "output_type": "execute_result",
     "data": {
      "text/plain": [
       "['', '123', '']"
      ]
     },
     "metadata": {},
     "execution_count": 90
    }
   ],
   "source": [
    "#關於首位會出現的''的理解： 參考string.split()\n",
    "'.123.'.split('.')"
   ]
  },
  {
   "source": [
    "# 正則練習題"
   ],
   "cell_type": "markdown",
   "metadata": {}
  },
  {
   "cell_type": "code",
   "execution_count": 94,
   "metadata": {},
   "outputs": [
    {
     "output_type": "stream",
     "name": "stdout",
     "text": [
      "['This', 'module', 'provides', 'regular', 'expression', 'matching', 'operations', 'similar', 'to', 'those', 'found', 'in', 'Perl.']\n"
     ]
    }
   ],
   "source": [
    "s = 'This module provides regular expression matching operations similar to those found in Perl.'\n",
    "pat = r'\\s+' # 匹配任意空白字符，等价于 [\\t\\n\\r\\f]。\n",
    "r = re.split(pat,s)\n",
    "print(r)"
   ]
  },
  {
   "cell_type": "code",
   "execution_count": 95,
   "metadata": {},
   "outputs": [
    {
     "output_type": "execute_result",
     "data": {
      "text/plain": [
       "['This', 'module', 'matching', 'to', 'those']"
      ]
     },
     "metadata": {},
     "execution_count": 95
    }
   ],
   "source": [
    "[i for i in r if re.match('[mt]',i,re.I)]"
   ]
  },
  {
   "cell_type": "code",
   "execution_count": 96,
   "metadata": {},
   "outputs": [
    {
     "output_type": "stream",
     "name": "stdout",
     "text": [
      "['This', 'module', 'matching', 'to', 'those']\n"
     ]
    }
   ],
   "source": [
    "s = 'This module provides regular expression matching operations similar to those found in Perl'\n",
    "pat = r'\\b[m|t][a-zA-Z]*\\b'\n",
    "r = re.findall(pat,s,re.I)\n",
    "print(r)"
   ]
  },
  {
   "cell_type": "code",
   "execution_count": null,
   "metadata": {},
   "outputs": [],
   "source": []
  },
  {
   "cell_type": "code",
   "execution_count": 97,
   "metadata": {},
   "outputs": [
    {
     "output_type": "stream",
     "name": "stdout",
     "text": [
      "['<div>graph</div>bb<div>math</div>']\n"
     ]
    }
   ],
   "source": [
    "content='<h>ddedadsad</h><div>graph</div>bb<div>math</div>cc'\n",
    "pat=re.compile(r\"<div>.*</div>\")  #贪婪模式\n",
    "m=pat.findall(content)\n",
    "print(m)"
   ]
  },
  {
   "cell_type": "code",
   "execution_count": 98,
   "metadata": {},
   "outputs": [
    {
     "output_type": "stream",
     "name": "stdout",
     "text": [
      "['<div>graph</div>', '<div>math</div>']\n"
     ]
    }
   ],
   "source": [
    "content='<h>ddedadsad</h><div>graph</div>bb<div>math</div>cc'\n",
    "pat=re.compile(r\"<div>.*?</div>\")  #非贪婪模式\n",
    "m=pat.findall(content)\n",
    "print(m)"
   ]
  },
  {
   "cell_type": "code",
   "execution_count": 101,
   "metadata": {},
   "outputs": [
    {
     "output_type": "stream",
     "name": "stdout",
     "text": [
      "['graph', 'math', 'english', 'chemistry', '']\n"
     ]
    }
   ],
   "source": [
    "content = 'graph math,,english;chemistry.' # 这种\n",
    "pat=re.compile(r\"[\\s,;.]+\")  #贪婪模式\n",
    "m=pat.split(content)\n",
    "print(m)"
   ]
  },
  {
   "cell_type": "code",
   "execution_count": 103,
   "metadata": {},
   "outputs": [
    {
     "output_type": "stream",
     "name": "stdout",
     "text": [
      "hello 666, 666hello 666\n"
     ]
    }
   ],
   "source": [
    "content=\"hello 12345, 1hello 456321\"    \n",
    "m=re.sub(r'\\d+','666',content)\n",
    "print(m)"
   ]
  },
  {
   "cell_type": "code",
   "execution_count": 104,
   "metadata": {},
   "outputs": [
    {
     "output_type": "stream",
     "name": "stdout",
     "text": [
      "666 12345, 666 456321\n"
     ]
    }
   ],
   "source": [
    "content=\"hello 12345, hello 456321\"    \n",
    "m=re.sub(r'[a-zA-Z]+','666',content)\n",
    "print(m)"
   ]
  },
  {
   "cell_type": "code",
   "execution_count": 105,
   "metadata": {},
   "outputs": [
    {
     "output_type": "stream",
     "name": "stdout",
     "text": [
      "正则<span>表达式</span>练习\n"
     ]
    }
   ],
   "source": [
    "import re \n",
    "s = \"<div class='a'>正则<span>表达式</span><b style='color:red'>练习</b></div>\"\n",
    "ret = re.sub(r'(</?div.*?>|</?b.*?>)','',s) \n",
    "print(ret)"
   ]
  },
  {
   "cell_type": "code",
   "execution_count": 106,
   "metadata": {},
   "outputs": [],
   "source": [
    "import re \n",
    "  \n",
    "s = '''121fefe\n",
    "3qsqse2\n",
    "ded6d32\n",
    "aaaaa1a\n",
    "1234adc\n",
    "'''\n",
    "s =re.split(r'\\s+',s)"
   ]
  },
  {
   "cell_type": "code",
   "execution_count": 111,
   "metadata": {},
   "outputs": [],
   "source": [
    "ret = [i for i in s if magic(i)==3]"
   ]
  },
  {
   "cell_type": "code",
   "execution_count": 112,
   "metadata": {},
   "outputs": [
    {
     "output_type": "execute_result",
     "data": {
      "text/plain": [
       "['121fefe', 'ded6d32']"
      ]
     },
     "metadata": {},
     "execution_count": 112
    }
   ],
   "source": [
    "ret"
   ]
  },
  {
   "cell_type": "code",
   "execution_count": 109,
   "metadata": {},
   "outputs": [],
   "source": [
    "def magic(str):\n",
    "    cnt= 0\n",
    "    for i in str:\n",
    "        if i.isdigit():\n",
    "            cnt+=1\n",
    "    return cnt"
   ]
  },
  {
   "cell_type": "code",
   "execution_count": 116,
   "metadata": {},
   "outputs": [
    {
     "output_type": "execute_result",
     "data": {
      "text/plain": [
       "['1230123']"
      ]
     },
     "metadata": {},
     "execution_count": 116
    }
   ],
   "source": [
    "re.findall(r'^[1-9][0-9]*','1230123') # 匹配以非0開頭 任意數字結尾的部分，貪婪模式；1230123 =》1230123"
   ]
  },
  {
   "cell_type": "code",
   "execution_count": 118,
   "metadata": {},
   "outputs": [
    {
     "output_type": "execute_result",
     "data": {
      "text/plain": [
       "['1']"
      ]
     },
     "metadata": {},
     "execution_count": 118
    }
   ],
   "source": [
    "re.findall(r'^[1-9][0-9]*?','1230123') # 匹配以非0開頭 任意數字結尾的部分，非貪婪模式；1230123 =》1"
   ]
  },
  {
   "cell_type": "code",
   "execution_count": 125,
   "metadata": {},
   "outputs": [
    {
     "output_type": "execute_result",
     "data": {
      "text/plain": [
       "['10.189.127.233', '10.189.128.80']"
      ]
     },
     "metadata": {},
     "execution_count": 125
    }
   ],
   "source": [
    "re.findall(r'(\\d{0,3}\\.\\d{0,3}\\.\\d{0,3}\\.\\d{0,3})',' 10.189.127.233 goto 10.189.128.80')"
   ]
  },
  {
   "cell_type": "code",
   "execution_count": null,
   "metadata": {},
   "outputs": [],
   "source": [
    "def get_ip_list(self):\n",
    "    try:\n",
    "        file = open(self.smart_ip_list_file, 'r')\n",
    "        str = file.readlines()\n",
    "        str_del_enter = [x.strip('\\n') for x in str]                                                            #去除\\n\n",
    "        comp = re.compile(r'^((2(5[0-5]|[0-4]\\d))|[0-1]?\\d{1,2})(\\.((2(5[0-5]|[0-4]\\d))|[0-1]?\\d{1,2})){3}')\n",
    "        str_legal_ip = [x for x in str_del_enter if comp.match(x)]                                              #筛选合法IP地址\n",
    "        file.close()\n",
    "        return str_legal_ip\n",
    "    except:\n",
    "        self.ui.textEdit.setText('读取\"%s\"报错' %(self.smart_ip_list_file))\n",
    "        return []"
   ]
  },
  {
   "cell_type": "code",
   "execution_count": null,
   "metadata": {},
   "outputs": [],
   "source": [
    "with open('','r') as file:\n",
    "    str = file.readlines()\n",
    "    str_del_enter = [x.strip('\\n') for x in str]  \n",
    "    pattern = re.compile(r'^((2(5[0-5]|[0-4]\\d))|[0-1]?\\d{1,2})(\\.((2(5[0-5]|[0-4]\\d))|[0-1]?\\d{1,2})){3}')\n",
    "    str_legal_ip = [x for x in str_del_enter if pattern.findall(x)]       "
   ]
  },
  {
   "cell_type": "code",
   "execution_count": 128,
   "metadata": {},
   "outputs": [
    {
     "output_type": "execute_result",
     "data": {
      "text/plain": [
       "['abc', '123', '789']"
      ]
     },
     "metadata": {},
     "execution_count": 128
    }
   ],
   "source": [
    "import re\n",
    "s = '(abc)def(123)456(789)'  #提取包含在（）裏面的内容\n",
    "res = re.findall(r'\\((.*?)\\)',s)\n",
    "res"
   ]
  },
  {
   "cell_type": "code",
   "execution_count": 129,
   "metadata": {},
   "outputs": [
    {
     "output_type": "stream",
     "name": "stdout",
     "text": [
      "7-16:carefully\n40-47:quickly\n"
     ]
    }
   ],
   "source": [
    "# 查找所有的副詞\n",
    "import re\n",
    "text = \"He was carefully disguised but captured quickly by police.\"\n",
    "res = re.finditer(r'\\w+ly',text,re.I|re.M)\n",
    "for m in res:\n",
    "    print(\"{0}-{1}:{2}\".format(m.start(),m.end(),m.group()))"
   ]
  },
  {
   "cell_type": "code",
   "execution_count": 131,
   "metadata": {},
   "outputs": [],
   "source": [
    "text = \"\"\"Ross McFluff: 834.345.1254 155 Elm Street\n",
    "\n",
    "Ronald Heathmore: 892.345.3428 436 Finley Avenue\n",
    " Frank Burger: 925.541.7625 662 South Dogwood Way\n",
    " Heather Albrecht: 548.326.4584 919 Park Place\"\"\"\n",
    " \n",
    "import re\n",
    "entries = re.split(r'\\n+',text)"
   ]
  },
  {
   "cell_type": "code",
   "execution_count": 136,
   "metadata": {},
   "outputs": [
    {
     "output_type": "execute_result",
     "data": {
      "text/plain": [
       "[['Ross', 'McFluff', '834.345.1254', '155', 'Elm Street'],\n",
       " ['Ronald', 'Heathmore', '892.345.3428', '436', 'Finley Avenue'],\n",
       " ['', 'Frank', 'Burger', '925.541.7625', '662 South Dogwood Way'],\n",
       " ['', 'Heather', 'Albrecht', '548.326.4584', '919 Park Place']]"
      ]
     },
     "metadata": {},
     "execution_count": 136
    }
   ],
   "source": [
    "[re.split(r':? ',entry,4) for entry in entries]"
   ]
  },
  {
   "cell_type": "code",
   "execution_count": 144,
   "metadata": {},
   "outputs": [
    {
     "output_type": "execute_result",
     "data": {
      "text/plain": [
       "'c3'"
      ]
     },
     "metadata": {},
     "execution_count": 144
    }
   ],
   "source": [
    "m = re.match(r\"(..)+\", \"a1b2c3\")\n",
    "m.group(1)"
   ]
  },
  {
   "cell_type": "code",
   "execution_count": null,
   "metadata": {},
   "outputs": [],
   "source": []
  },
  {
   "cell_type": "code",
   "execution_count": null,
   "metadata": {},
   "outputs": [],
   "source": []
  }
 ],
 "metadata": {
  "kernelspec": {
   "name": "python3",
   "display_name": "Python 3.7.5 64-bit ('qj': conda)",
   "metadata": {
    "interpreter": {
     "hash": "1461ed4eaf9af82a15b679fb8211aa32883370151bcc762036b14c52e60f8822"
    }
   }
  },
  "language_info": {
   "codemirror_mode": {
    "name": "ipython",
    "version": 3
   },
   "file_extension": ".py",
   "mimetype": "text/x-python",
   "name": "python",
   "nbconvert_exporter": "python",
   "pygments_lexer": "ipython3",
   "version": "3.7.5-final"
  }
 },
 "nbformat": 4,
 "nbformat_minor": 2
}