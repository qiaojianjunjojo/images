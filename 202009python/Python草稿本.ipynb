{
 "cells": [
  {
   "cell_type": "code",
   "execution_count": 206,
   "metadata": {},
   "outputs": [
    {
     "output_type": "execute_result",
     "data": {
      "text/plain": [
       "'0a1b2c2'"
      ]
     },
     "metadata": {},
     "execution_count": 206
    }
   ],
   "source": [
    "from itertools import zip_longest\n",
    "s = \"a0b1c22\"\n",
    "l ,d = [],[]\n",
    "for i in range(len(s)):\n",
    "    if s[i].isdigit():\n",
    "        d.append(s[i])\n",
    "    else:\n",
    "        l.append(s[i])\n",
    "if abs(len(l) - len(d))>1:print(\"False\")\n",
    "if len(d)<len(l): # 保證L是短的那一個\n",
    "    l,d = d,l\n",
    "\n",
    "''.join([x+y for x,y in zip_longest(d,l,fillvalue = \"\")])\n"
   ]
  },
  {
   "cell_type": "code",
   "execution_count": 207,
   "metadata": {},
   "outputs": [
    {
     "output_type": "execute_result",
     "data": {
      "text/plain": [
       "5"
      ]
     },
     "metadata": {},
     "execution_count": 207
    }
   ],
   "source": [
    "import itertools\n",
    "target = \"001011101\"\n",
    "len(list(itertools.groupby(target.lstrip('0'))))"
   ]
  },
  {
   "cell_type": "code",
   "execution_count": 208,
   "metadata": {},
   "outputs": [
    {
     "output_type": "execute_result",
     "data": {
      "text/plain": [
       "[('1', <itertools._grouper at 0x2131821aa88>),\n",
       " ('0', <itertools._grouper at 0x2131821a388>),\n",
       " ('1', <itertools._grouper at 0x2131821a248>),\n",
       " ('0', <itertools._grouper at 0x2131821a9c8>),\n",
       " ('1', <itertools._grouper at 0x2131821a448>)]"
      ]
     },
     "metadata": {},
     "execution_count": 208
    }
   ],
   "source": [
    "list(itertools.groupby(target.lstrip('0')))"
   ]
  },
  {
   "cell_type": "code",
   "execution_count": null,
   "metadata": {},
   "outputs": [],
   "source": [
    "a =\"1+-1i\"\n",
    "b =\"1+-1i\"\n",
    "import re \n",
    "a_real,a_image = map(int,re.findall(r'-?\\d+',a))\n",
    "b_real,b_image = map(int,re.findall(r'-?\\d+',b))\n",
    "print(f'{a_real*b_real - a_image*b_image}+{a_real*b_image+a_image*b_real}i')\n"
   ]
  },
  {
   "cell_type": "code",
   "execution_count": null,
   "metadata": {},
   "outputs": [],
   "source": [
    "s1 = \"abe\"\n",
    "s2 = \"acd\""
   ]
  },
  {
   "cell_type": "code",
   "execution_count": null,
   "metadata": {},
   "outputs": [],
   "source": [
    "s11 = sorted(s1)\n",
    "s22 = sorted(s2)\n",
    "all(s11[i]>=s22[i] for i in range(len(s1))) or all(s11[i]<=s22[i] for i in range(len(s1)))"
   ]
  },
  {
   "cell_type": "code",
   "execution_count": null,
   "metadata": {},
   "outputs": [],
   "source": [
    "s11[1]>=s22[1]"
   ]
  },
  {
   "cell_type": "code",
   "execution_count": null,
   "metadata": {},
   "outputs": [],
   "source": [
    "from collections import Counter\n",
    "s = \"aacaba\"\n",
    "res = 0\n",
    "c_left = Counter()\n",
    "c_right = Counter(s)\n",
    "for i in s:\n",
    "    c_left[i]+=1\n",
    "    c_right[i]-=1\n",
    "    if c_right[i]==0:\n",
    "        del c_right[i]\n",
    "    if len(c_left) == len(c_right):\n",
    "        res+=1\n",
    "print(res)"
   ]
  },
  {
   "cell_type": "code",
   "execution_count": null,
   "metadata": {},
   "outputs": [],
   "source": [
    "c = Counter()\n",
    "c[\"a\"]+=1\n",
    "c[\"a\"]-=1\n",
    "+c"
   ]
  },
  {
   "source": [
    "# heading"
   ],
   "cell_type": "markdown",
   "metadata": {}
  },
  {
   "cell_type": "code",
   "execution_count": null,
   "metadata": {
    "tags": []
   },
   "outputs": [],
   "source": [
    "import re\n",
    "\n",
    "pattern = re.compile(r'</(.*?)\\s?>')\n",
    "filepath = r\"./html.txt\" # 原理提取</table> 之類的標簽，有些標簽是不帶結束標簽的<img> <br> <input> <link> <meta>\n",
    "res = set()\n",
    "with open(filepath,'r',encoding='utf-8') as file:\n",
    "    for line in file.readlines():\n",
    "        #print(line)\n",
    "        for i in pattern.findall(line):\n",
    "            res.add(i.split()[0])\n",
    "print(res)"
   ]
  },
  {
   "cell_type": "code",
   "execution_count": null,
   "metadata": {},
   "outputs": [],
   "source": []
  },
  {
   "cell_type": "code",
   "execution_count": null,
   "metadata": {},
   "outputs": [],
   "source": [
    "import re\n",
    "import requests\n",
    "\n",
    "response = requests.get('http://10.189.127.62:40023/mod-portal/') \n",
    "response.encoding = 'utf-8-sig'  \n",
    "texts = re.split(r'[\\n]',response.text) #通過換行符將很長的一段html切成小段\n",
    "l = set() # 定定義一個不重複的集合\n",
    "pattern = r'<([a-zA-Z].*?\\s*?)>'  # 匹配型如<meta xxxxx>, <script xxxx>\n",
    "\n",
    "for text in texts:\n",
    "    r = re.findall(pattern,text) \n",
    "    for item in r:\n",
    "        l.add(item.split(' ')[0])\n",
    "print(l)"
   ]
  },
  {
   "cell_type": "code",
   "execution_count": null,
   "metadata": {},
   "outputs": [],
   "source": []
  },
  {
   "source": [
    "import requests\n",
    "import json\n",
    "res = requests.get('http://10.189.127.62:40015/getBeolCt2Detail/') \n",
    "res = json.loads(res.text)\n",
    "res\n"
   ],
   "cell_type": "code",
   "metadata": {},
   "execution_count": 210,
   "outputs": [
    {
     "output_type": "execute_result",
     "data": {
      "text/plain": [
       "{'data': [{'GRADE': 'A', 'red': 3, 'green': 0},\n",
       "  {'GRADE': 'B', 'red': 0, 'green': 3},\n",
       "  {'GRADE': 'C', 'red': 0, 'green': 3}]}"
      ]
     },
     "metadata": {},
     "execution_count": 210
    }
   ]
  },
  {
   "cell_type": "code",
   "execution_count": null,
   "metadata": {},
   "outputs": [],
   "source": [
    "re.findall(r'<img(.*)>',res.text,re.M)"
   ]
  },
  {
   "cell_type": "code",
   "execution_count": null,
   "metadata": {},
   "outputs": [],
   "source": [
    "def sugguset(s):\n",
    "    return sorted([i for i in products if i.startswith(s)])[:3]\n",
    "        \n",
    "\n",
    "products = [\"mobile\",\"mouse\",\"moneypot\",\"monitor\",\"mousepad\"]\n",
    "searchWord = \"mouse\"\n",
    "res = []\n",
    "for i in range(len(searchWord)):\n",
    "    res.append(sugguset(searchWord[:i+1]))\n",
    "print(res)"
   ]
  },
  {
   "cell_type": "code",
   "execution_count": 213,
   "metadata": {},
   "outputs": [
    {
     "output_type": "stream",
     "name": "stdout",
     "text": [
      "\n"
     ]
    }
   ],
   "source": [
    "s = \"))((\"\n",
    "lst = list(s)\n",
    "x = 0\n",
    "for i in range(len(lst)):\n",
    "    if lst[i] == '(':\n",
    "        x += 1\n",
    "    elif lst[i] == ')':\n",
    "        if x > 0:\n",
    "            x -= 1\n",
    "        else:\n",
    "            lst[i] = ''\n",
    "y = 0\n",
    "for i in range(len(lst) - 1, -1, -1):\n",
    "    if lst[i] == ')':\n",
    "        y += 1\n",
    "    elif lst[i] == '(':\n",
    "        if y > 0:\n",
    "            y -= 1\n",
    "        else:\n",
    "            lst[i] = ''\n",
    "print(''.join(lst))"
   ]
  },
  {
   "cell_type": "code",
   "execution_count": null,
   "metadata": {},
   "outputs": [],
   "source": [
    "s1 = \"xx\"\n",
    "s2 = \"yy\"\n",
    "x,y = 0,0\n",
    "for idx,value in enumerate(s1):\n",
    "    if s2[idx]!=value:\n",
    "        if value=='x':\n",
    "            x+=1\n",
    "        else:\n",
    "            y+=1\n",
    "if (x+y)%2:\n",
    "    print(\"-1\")\n",
    "print(x//2+ y//2 + (x%2)*2)"
   ]
  },
  {
   "cell_type": "code",
   "execution_count": null,
   "metadata": {},
   "outputs": [],
   "source": [
    "s =\"(()(()))\"\n",
    "def func(s):\n",
    "    stcak,cur,res = [],\"\",0\n",
    "    for i in s:\n",
    "        if i==\"(\":\n",
    "            stack.append(cur)\n",
    "            cur = \"\"\n",
    "        if i==\")\":\n",
    "            if stack:\n",
    "                if stack.pop():\n",
    "                    pass\n",
    "                else:\n",
    "                    res+=1\n",
    "        else:\n",
    "            cur+=i\n",
    "    while stack:\n",
    "        cur = stcak.pop() +cur"
   ]
  },
  {
   "cell_type": "code",
   "execution_count": null,
   "metadata": {},
   "outputs": [],
   "source": [
    "import re\n",
    "str = \"-91283472332\"\n",
    "num = int(*re.findall(r'^[+-]?\\d+',str.strip()))\n",
    "min(max(num,-2*31),2**31-1)"
   ]
  },
  {
   "cell_type": "code",
   "execution_count": null,
   "metadata": {},
   "outputs": [],
   "source": [
    "re.findall(r'^[+-]?\\d+',str.strip())"
   ]
  },
  {
   "cell_type": "code",
   "execution_count": null,
   "metadata": {},
   "outputs": [],
   "source": [
    "s = \" a  good    example   sss 222 \"\n",
    "s.split()"
   ]
  },
  {
   "cell_type": "code",
   "execution_count": null,
   "metadata": {},
   "outputs": [],
   "source": [
    "IP = \"172.16.254.1\"\n",
    "class Solution(object):\n",
    "    def validIPAddress(self, IP):\n",
    "        if re.search('^((25[0-5]|2[0-4]\\d|1\\d\\d|[1-9]\\d|\\d)\\.){3}(25[0-5]|2[0-4]\\d|1\\d\\d|[1-9]\\d|\\d)$',IP): return 'IPv4'\n",
    "        elif re.search('^([\\da-f]{1,4}:){7}[\\da-f]{1,4}$',IP,re.I): return 'IPv6'\n",
    "        else: return 'Neither'"
   ]
  },
  {
   "cell_type": "code",
   "execution_count": null,
   "metadata": {},
   "outputs": [],
   "source": [
    "import re \n",
    "pattern = re.compile(r'^((25[0-5]|2[0-4]\\d|1\\d\\d|[1-9]\\d|\\d).){3}(25[0-5]|2[0-4]\\d|1\\d\\d|[1-9]\\d|\\d)$')"
   ]
  },
  {
   "cell_type": "code",
   "execution_count": null,
   "metadata": {},
   "outputs": [],
   "source": [
    "IP = \"172.16.254.1\"\n",
    "pattern.search(IP)"
   ]
  },
  {
   "cell_type": "code",
   "execution_count": null,
   "metadata": {},
   "outputs": [],
   "source": [
    "IP = \"2001:0db8:85a3:0000:0000:8a2e:0370:7334\"\n",
    "re.search(r'^(([0123456789abcdefg]{1,4}):){7}([0123456789abcdefg]{1,4})$',IP,re.I)"
   ]
  },
  {
   "cell_type": "code",
   "execution_count": null,
   "metadata": {},
   "outputs": [],
   "source": [
    "md5(\"a\")"
   ]
  },
  {
   "cell_type": "code",
   "execution_count": null,
   "metadata": {},
   "outputs": [],
   "source": [
    "pow(2.00000,3)"
   ]
  },
  {
   "cell_type": "code",
   "execution_count": null,
   "metadata": {},
   "outputs": [],
   "source": [
    "num = 1992\n",
    "q,v = divmod(num,1000)\n",
    "b,v = divmod(v,100)\n",
    "s,v = divmod(v,10)\n",
    "g = v"
   ]
  },
  {
   "cell_type": "code",
   "execution_count": null,
   "metadata": {},
   "outputs": [],
   "source": [
    "d = {0:\"\",1:\"I\",2:\"II\",3:\"III\",4:\"IV\",5:\"V\",6:\"VI\",7:\"VII\",8:\"VIII\",9:\"IX\"}"
   ]
  },
  {
   "cell_type": "code",
   "execution_count": null,
   "metadata": {},
   "outputs": [],
   "source": [
    "7>>1>>1>>1"
   ]
  },
  {
   "cell_type": "code",
   "execution_count": null,
   "metadata": {},
   "outputs": [],
   "source": [
    "points = [[0,0],[0,1],[1,0],[0,2],[2,0]]\n",
    "max_res = 0.0\n",
    "for i in range(len(points)-2):\n",
    "    x1,y1 = points[i]\n",
    "    for j in range(i+1,len(points)-1):\n",
    "        x2,y2 = points[j]\n",
    "        for k in range(j+1,len(points)):\n",
    "            x3,y3 = points[k]\n",
    "            max_res = max(max_res,abs(0.5*(x1*(y2-y3) + x2*(y3-y1) + x3*(y1-y2))))\n"
   ]
  },
  {
   "cell_type": "code",
   "execution_count": null,
   "metadata": {},
   "outputs": [],
   "source": [
    "max_res"
   ]
  },
  {
   "cell_type": "code",
   "execution_count": null,
   "metadata": {},
   "outputs": [],
   "source": [
    "points = [[3,1],[9,0],[1,0],[1,4],[5,3],[8,8]]\n",
    "A =sorted(points,key=lambda x :x[0])\n",
    "max =  0\n",
    "[(A[i+1][0]-A[i][0]) for i in range(len(A)-1)]"
   ]
  },
  {
   "cell_type": "code",
   "execution_count": null,
   "metadata": {},
   "outputs": [],
   "source": [
    "\n",
    "points = [[1,3],[-2,2]]\n",
    "K = 1\n",
    "sorted(points,key=lambda x :(x[0]**2 + x[1]**2)**0.5)[:K]"
   ]
  },
  {
   "cell_type": "code",
   "execution_count": null,
   "metadata": {},
   "outputs": [],
   "source": [
    "votes =[\"FVSHJIEMNGYPTQOURLWCZKAX\",\"AITFQORCEHPVJMXGKSLNZWUY\",\"OTERVXFZUMHNIYSCQAWGPKJL\",\"VMSERIJYLZNWCPQTOKFUHAXG\",\"VNHOZWKQCEFYPSGLAMXJIUTR\",\"ANPHQIJMXCWOSKTYGULFVERZ\",\"RFYUXJEWCKQOMGATHZVILNSP\",\"SCPYUMQJTVEXKRNLIOWGHAFZ\",\"VIKTSJCEYQGLOMPZWAHFXURN\",\"SVJICLXKHQZTFWNPYRGMEUAO\",\"JRCTHYKIGSXPOZLUQAVNEWFM\",\"NGMSWJITREHFZVQCUKXYAPOL\",\"WUXJOQKGNSYLHEZAFIPMRCVT\",\"PKYQIOLXFCRGHZNAMJVUTWES\",\"FERSGNMJVZXWAYLIKCPUQHTO\",\"HPLRIUQMTSGYJVAXWNOCZEKF\",\"JUVWPTEGCOFYSKXNRMHQALIZ\",\"MWPIAZCNSLEYRTHFKQXUOVGJ\",\"EZXLUNFVCMORSIWKTYHJAQPG\",\"HRQNLTKJFIEGMCSXAZPYOVUW\",\"LOHXVYGWRIJMCPSQENUAKTZF\",\"XKUTWPRGHOAQFLVYMJSNEIZC\",\"WTCRQMVKPHOSLGAXZUEFYNJI\"]\n",
    "keys = {c: [0] * len(votes[0]) + [c] for c in votes[0]}   \n",
    "for vote in votes:\n",
    "    for i, c in enumerate(vote):\n",
    "        keys[c][i] -= 1"
   ]
  },
  {
   "cell_type": "code",
   "execution_count": null,
   "metadata": {},
   "outputs": [],
   "source": [
    "''.join(sorted(votes[0], key=keys.get))"
   ]
  },
  {
   "cell_type": "code",
   "execution_count": null,
   "metadata": {},
   "outputs": [],
   "source": [
    "''.join(x[0]  for x in sorted(d.items(),key = lambda x:(x[1],x[0])))"
   ]
  },
  {
   "cell_type": "code",
   "execution_count": null,
   "metadata": {},
   "outputs": [],
   "source": [
    "d.items()"
   ]
  },
  {
   "cell_type": "code",
   "execution_count": null,
   "metadata": {},
   "outputs": [],
   "source": [
    "\n",
    "       "
   ]
  },
  {
   "cell_type": "code",
   "execution_count": null,
   "metadata": {},
   "outputs": [],
   "source": [
    "res"
   ]
  },
  {
   "cell_type": "code",
   "execution_count": null,
   "metadata": {},
   "outputs": [],
   "source": [
    "a = [[1,3],[2,6],[8,10],[15,18],[3,4]]\n",
    "intervals = sorted(a)\n",
    "res = []\n"
   ]
  },
  {
   "cell_type": "code",
   "execution_count": null,
   "metadata": {},
   "outputs": [],
   "source": [
    "nums = [2,0,2,1,1,0]\n",
    "a,b,c = 0,0,0\n",
    "for i in range(len(nums)):\n",
    "    if nums[i] ==0:\n",
    "        a+=1\n",
    "    elif nums[i] ==1:\n",
    "        b+=1\n",
    "    else:\n",
    "        c+=1\n",
    "nums[:a] = [0] *a\n",
    "nums[a:a+b] = [1]*b\n",
    "nums[a+b:] = [2]*c\n",
    "\n"
   ]
  },
  {
   "cell_type": "code",
   "execution_count": null,
   "metadata": {},
   "outputs": [],
   "source": [
    "from collections import Counter\n",
    "c = Counter(nums)\n",
    "nums = [2,0,2,1,1,0]\n",
    "nums[:c[0]] = [0] * c[0]\n",
    "nums[c[0]:c[0]+c[1]] = [1]*c[1]\n",
    "nums[c[0]+c[1]:] = [2]*c[2]"
   ]
  },
  {
   "cell_type": "code",
   "execution_count": null,
   "metadata": {},
   "outputs": [],
   "source": [
    "\n",
    "nums[:c[0]] = [0] * c[0]\n",
    "nums[c[0]:c[0]+c[1]] = [1]*c[1]\n",
    "nums[c[0]+c[1]:] = [2]*c[2]"
   ]
  },
  {
   "cell_type": "code",
   "execution_count": null,
   "metadata": {},
   "outputs": [],
   "source": [
    "import numpy as np\n",
    "mat = [[3,3,1,1],[2,2,1,2],[1,1,1,2]]\n",
    "s = np.array(mat)\n",
    "s"
   ]
  },
  {
   "cell_type": "code",
   "execution_count": null,
   "metadata": {},
   "outputs": [],
   "source": [
    "intervals = [[1,2],[3,5],[6,7],[8,10],[12,16]] \n",
    "newInterval = [4,8]\n",
    "res = []"
   ]
  },
  {
   "cell_type": "code",
   "execution_count": null,
   "metadata": {},
   "outputs": [],
   "source": [
    "for i in range(len(intervals)):\n",
    "    if newInterval[0] > intervals[i][1] or newInterval[1]<intervals[i][0]:\n",
    "        res.append(intervals[i])\n",
    "    else:\n",
    "        newInterval = [min(newInterval[0],intervals[i][0]),max(newInterval[1],intervals[i][1])]\n",
    "        print(newInterval)\n",
    "\n",
    "        "
   ]
  },
  {
   "cell_type": "code",
   "execution_count": null,
   "metadata": {},
   "outputs": [],
   "source": []
  },
  {
   "cell_type": "code",
   "execution_count": null,
   "metadata": {},
   "outputs": [],
   "source": [
    "citations = [3,0,6,1,5,2,8,9,6,3,5]\n",
    "citations.sort(reverse = True)\n",
    "citations\n",
    "res = 0 \n",
    "for idx,val in enumerate(citations,1):\n",
    "    if val>idx:\n",
    "        res = idx\n",
    "    else:\n",
    "        print(idx)\n"
   ]
  },
  {
   "cell_type": "code",
   "execution_count": null,
   "metadata": {},
   "outputs": [],
   "source": [
    "citations"
   ]
  },
  {
   "cell_type": "code",
   "execution_count": null,
   "metadata": {},
   "outputs": [],
   "source": []
  },
  {
   "cell_type": "code",
   "execution_count": null,
   "metadata": {},
   "outputs": [],
   "source": [
    "def func(x):\n",
    "    try :\n",
    "        arr2.index(x)\n",
    "        return (1,arr2.index(x))\n",
    "    except:\n",
    "        return (2,x)\n",
    "\n",
    "arr1 = [2,3,1,3,2,4,6,7,9,2,19]\n",
    "arr2 = [2,1,4,3,9,6]\n",
    "sorted(arr1,key=func)"
   ]
  },
  {
   "cell_type": "code",
   "execution_count": null,
   "metadata": {},
   "outputs": [],
   "source": []
  },
  {
   "cell_type": "code",
   "execution_count": null,
   "metadata": {},
   "outputs": [],
   "source": [
    "def func(str1,str2):\n",
    "    j = 0\n",
    "    for i in range(len(str1)):\n",
    "        if j<len(str2) and str1[i] == str2[j]:\n",
    "            j+=1\n",
    "    return j==len(str2)"
   ]
  },
  {
   "cell_type": "code",
   "execution_count": null,
   "metadata": {},
   "outputs": [],
   "source": [
    "func(\"abc\",\"ab\")"
   ]
  },
  {
   "cell_type": "code",
   "execution_count": null,
   "metadata": {},
   "outputs": [],
   "source": [
    "s = \"abcd\"\n",
    "d = \"ae\""
   ]
  },
  {
   "cell_type": "code",
   "execution_count": null,
   "metadata": {},
   "outputs": [],
   "source": [
    "it = iter(s)"
   ]
  },
  {
   "cell_type": "code",
   "execution_count": null,
   "metadata": {},
   "outputs": [],
   "source": [
    "\"e\" in it"
   ]
  },
  {
   "cell_type": "code",
   "execution_count": null,
   "metadata": {},
   "outputs": [],
   "source": [
    "next(it)"
   ]
  },
  {
   "cell_type": "code",
   "execution_count": null,
   "metadata": {},
   "outputs": [],
   "source": [
    "nums = [-12,-9,-3,-12,-6,15,20,-25,-20,-15,-10]\n",
    "l = [0]\n",
    "r = [4,4,9,7,9,10]\n",
    "res = []\n",
    "for i in range(len(l)):\n",
    "    temp = sorted(nums[l[i]:r[i]+1])\n",
    "    if len(temp)<=2:res.append(True)\n",
    "    if all(temp[j]-temp[j-1] ==temp[j+1] -temp[j] for j in range(1,len(temp)-1)):\n",
    "        res.append(True)\n",
    "    else:\n",
    "        res.append(False)"
   ]
  },
  {
   "cell_type": "code",
   "execution_count": null,
   "metadata": {},
   "outputs": [],
   "source": [
    "res"
   ]
  },
  {
   "cell_type": "code",
   "execution_count": null,
   "metadata": {},
   "outputs": [],
   "source": [
    "piles = [9,8,7,6,5,1,2,3,4]\n",
    "t= sorted(piles,reverse=True)\n"
   ]
  },
  {
   "cell_type": "code",
   "execution_count": null,
   "metadata": {},
   "outputs": [],
   "source": [
    "sorted(piles,reverse=True)[:len(piles)*2//3][1::2]"
   ]
  },
  {
   "cell_type": "code",
   "execution_count": null,
   "metadata": {},
   "outputs": [],
   "source": []
  },
  {
   "cell_type": "code",
   "execution_count": null,
   "metadata": {},
   "outputs": [],
   "source": [
    "barcodes = [1,1,1,1,2,2,3,3,4]\n",
    "barcodes.sort()\n"
   ]
  },
  {
   "source": [
    "res"
   ],
   "cell_type": "markdown",
   "metadata": {}
  },
  {
   "cell_type": "code",
   "execution_count": null,
   "metadata": {},
   "outputs": [],
   "source": [
    "arr = [1,2,3]\n",
    "res= []\n",
    "t = sorted(arr,reverse=True)\n",
    "for idx,val in enumerate(t,1):\n",
    "    print(idx,val)\n",
    "    if arr[len(arr)-idx]!= val:\n",
    "        res.append(arr.index(val)+1)\n",
    "        res.append(len(arr)-idx+1)\n",
    "        arr[:arr.index(val)+1] =  arr[:arr.index(val)+1][::-1]\n",
    "        arr[:len(arr)-idx+1] =  arr[:len(arr)-idx+1][::-1]\n",
    "        # arr = arr[:arr.index(val)+1][::-1] + arr[arr.index(val)+1:]\n",
    "        # arr = arr[:len(arr)-idx:-1] +arr[len(arr)-idx:]"
   ]
  },
  {
   "cell_type": "code",
   "execution_count": null,
   "metadata": {},
   "outputs": [],
   "source": [
    "res"
   ]
  },
  {
   "cell_type": "code",
   "execution_count": null,
   "metadata": {},
   "outputs": [],
   "source": [
    "sorted(set(barcodes),reverse=True)"
   ]
  },
  {
   "cell_type": "code",
   "execution_count": null,
   "metadata": {},
   "outputs": [],
   "source": [
    "nums = [1,2,3,4]\n",
    "n=4\n",
    "left = 1\n",
    "right = 10\n",
    "temp = []\n",
    "for i in range(n):\n",
    "    for j in range(i,n):\n",
    "        temp.append(sum(nums[i:j+1]))\n",
    "temp.sort()\n",
    "sum(temp[left-1:right])%(pow(10,9) + 7)"
   ]
  },
  {
   "cell_type": "code",
   "execution_count": null,
   "metadata": {},
   "outputs": [],
   "source": [
    "temp"
   ]
  },
  {
   "cell_type": "code",
   "execution_count": null,
   "metadata": {},
   "outputs": [],
   "source": [
    "text = \"To be or not to be\"  #\"To be or to be not\"\n",
    "def func(str,d = {}):\n",
    "    if str not in d:\n",
    "        d[str] = text.find(str)\n",
    "    else:\n",
    "        d[str] += text.find(str,d[str])\n",
    "    return len(str),text.find(str)\n",
    "temp =sorted(text.lower().split(),key=func)\n",
    "' '.join(temp).capitalize()"
   ]
  },
  {
   "cell_type": "code",
   "execution_count": null,
   "metadata": {},
   "outputs": [],
   "source": [
    "text.lower().split()"
   ]
  },
  {
   "cell_type": "code",
   "execution_count": null,
   "metadata": {},
   "outputs": [],
   "source": [
    "li = ['to', 'be', 'or', 'not', 'to', 'be']\n",
    "d = {}\n",
    "for str in li:\n",
    "    if str not in d:\n",
    "        d[str] = text.find(str)\n",
    "    else:\n",
    "        d[str] += text.find(str,d[str])"
   ]
  },
  {
   "cell_type": "code",
   "execution_count": null,
   "metadata": {},
   "outputs": [],
   "source": [
    "d"
   ]
  },
  {
   "cell_type": "code",
   "execution_count": null,
   "metadata": {},
   "outputs": [],
   "source": [
    "def tribonacci(n):\n",
    "    if n==0:\n",
    "        return 0\n",
    "    elif n==1 or n==2:\n",
    "        return 1\n",
    "    else:\n",
    "        a+b+b,b+c,c = tribonacci(n-1)\n",
    "        return tribonacci(n-1) +tribonacci(n-2) + tribonacci(n-3)"
   ]
  },
  {
   "cell_type": "code",
   "execution_count": null,
   "metadata": {},
   "outputs": [],
   "source": []
  },
  {
   "cell_type": "code",
   "execution_count": null,
   "metadata": {},
   "outputs": [],
   "source": [
    "list(map(lambda x:(x|1),range(5)))/x"
   ]
  },
  {
   "cell_type": "code",
   "execution_count": null,
   "metadata": {},
   "outputs": [],
   "source": [
    "bin(3)[2:]"
   ]
  },
  {
   "cell_type": "code",
   "execution_count": null,
   "metadata": {},
   "outputs": [],
   "source": [
    "bin(3<<2)[2:]"
   ]
  },
  {
   "cell_type": "code",
   "execution_count": null,
   "metadata": {},
   "outputs": [],
   "source": [
    "bin(3>>2)[2:]"
   ]
  },
  {
   "cell_type": "code",
   "execution_count": null,
   "metadata": {},
   "outputs": [],
   "source": [
    "5>>3"
   ]
  },
  {
   "cell_type": "code",
   "execution_count": null,
   "metadata": {},
   "outputs": [],
   "source": [
    "keys = [\"price\",\"toalAmount\"]\n",
    " \n",
    "values = [\"0.01\",\"10000\"]\n",
    "dict(zip(keys,values))"
   ]
  },
  {
   "cell_type": "code",
   "execution_count": null,
   "metadata": {},
   "outputs": [],
   "source": [
    "k = [\"a\",\"b\",\"c\"]\n",
    "v = [\"1\",\"2\",\"3\"]\n",
    "d2 = dict(zip(k,v))"
   ]
  },
  {
   "cell_type": "code",
   "execution_count": null,
   "metadata": {},
   "outputs": [],
   "source": [
    "d2"
   ]
  },
  {
   "cell_type": "code",
   "execution_count": 122,
   "metadata": {},
   "outputs": [
    {
     "output_type": "execute_result",
     "data": {
      "text/plain": [
       "'abcdefghijklmnopqrstuvwxyzABCDEFGHIJKLMNOPQRSTUVWXYZ'"
      ]
     },
     "metadata": {},
     "execution_count": 122
    }
   ],
   "source": [
    "import string\n",
    "string.ascii_letters"
   ]
  },
  {
   "cell_type": "code",
   "execution_count": null,
   "metadata": {},
   "outputs": [],
   "source": [
    "string.whitespace"
   ]
  },
  {
   "cell_type": "code",
   "execution_count": null,
   "metadata": {},
   "outputs": [],
   "source": [
    "import collections\n",
    "orders = [[\"David\",\"3\",\"Ceviche\"],[\"Corina\",\"10\",\"Beef Burrito\"],[\"David\",\"3\",\"Fried Chicken\"],[\"Carla\",\"5\",\"Water\"],[\"Carla\",\"5\",\"Ceviche\"],[\"Rous\",\"3\",\"Ceviche\"]]\n",
    "foods = sorted(set(list(zip(*orders))[2]))\n",
    "desk = collections.defaultdict(collections.Counter)\n",
    "for _,table,food in orders:\n",
    "    desk[table][food] +=1"
   ]
  },
  {
   "cell_type": "code",
   "execution_count": null,
   "metadata": {},
   "outputs": [],
   "source": [
    "desk.items()"
   ]
  },
  {
   "cell_type": "code",
   "execution_count": null,
   "metadata": {},
   "outputs": [],
   "source": [
    "sorted(desk,key=int)"
   ]
  },
  {
   "cell_type": "code",
   "execution_count": null,
   "metadata": {},
   "outputs": [],
   "source": [
    "res = [[\"Table\"] + foods]\n",
    "res"
   ]
  },
  {
   "cell_type": "code",
   "execution_count": null,
   "metadata": {},
   "outputs": [],
   "source": [
    "for table in sorted(desk,key=int):\n",
    "    res.append([table]+ [str(desk[table][food]) for food in foods])"
   ]
  },
  {
   "cell_type": "code",
   "execution_count": null,
   "metadata": {},
   "outputs": [],
   "source": [
    "res"
   ]
  },
  {
   "cell_type": "code",
   "execution_count": 297,
   "metadata": {},
   "outputs": [
    {
     "output_type": "error",
     "ename": "TypeError",
     "evalue": "first argument must be callable or None",
     "traceback": [
      "\u001b[1;31m---------------------------------------------------------------------------\u001b[0m",
      "\u001b[1;31mTypeError\u001b[0m                                 Traceback (most recent call last)",
      "\u001b[1;32m<ipython-input-297-701252435828>\u001b[0m in \u001b[0;36m<module>\u001b[1;34m\u001b[0m\n\u001b[0;32m      1\u001b[0m \u001b[1;32mfrom\u001b[0m \u001b[0mcollections\u001b[0m \u001b[1;32mimport\u001b[0m \u001b[0mdefaultdict\u001b[0m\u001b[1;33m,\u001b[0m\u001b[0mCounter\u001b[0m\u001b[1;33m\u001b[0m\u001b[1;33m\u001b[0m\u001b[0m\n\u001b[1;32m----> 2\u001b[1;33m \u001b[0md\u001b[0m \u001b[1;33m=\u001b[0m \u001b[0mdefaultdict\u001b[0m\u001b[1;33m(\u001b[0m\u001b[0mset\u001b[0m\u001b[1;33m)\u001b[0m\u001b[1;33m\u001b[0m\u001b[1;33m\u001b[0m\u001b[0m\n\u001b[0m",
      "\u001b[1;31mTypeError\u001b[0m: first argument must be callable or None"
     ]
    }
   ],
   "source": [
    "\n",
    "from collections import defaultdict,Counter\n",
    "d = defaultdict(set)"
   ]
  },
  {
   "cell_type": "code",
   "execution_count": null,
   "metadata": {},
   "outputs": [],
   "source": [
    "s = [('yellow', 1), ('blue', 2), ('yellow', 3), ('blue', 4), ('red', 1)]\n",
    "d = defaultdict(list)\n",
    "for k,v in s:\n",
    "    d[k].append(v)\n"
   ]
  },
  {
   "cell_type": "code",
   "execution_count": null,
   "metadata": {},
   "outputs": [],
   "source": []
  },
  {
   "cell_type": "code",
   "execution_count": null,
   "metadata": {},
   "outputs": [],
   "source": [
    "T = [73, 74, 75, 71, 69, 72, 76, 73,2,3,4]\n",
    "res = []\n",
    "for i in range(len(T)):\n",
    "    j = i+1\n",
    "    c = 0\n",
    "    while j<len(T):\n",
    "        if T[j]<=T[i]:\n",
    "            c+=1\n",
    "            j+=1\n",
    "        else:\n",
    "            res.append(c+1)\n",
    "            c=0\n",
    "            break\n",
    "    if c:\n",
    "        res.append(0)\n"
   ]
  },
  {
   "cell_type": "code",
   "execution_count": null,
   "metadata": {},
   "outputs": [],
   "source": [
    "res+[0]"
   ]
  },
  {
   "cell_type": "code",
   "execution_count": 281,
   "metadata": {},
   "outputs": [],
   "source": [
    "def addBinary(x,y):\n",
    "    res,i,j,s = [],len(x)-1,len(y)-1,0\n",
    "    while i>=0 or j>=0 or s:\n",
    "        if i>=0:\n",
    "            s+=int(x[i])\n",
    "            i-=1\n",
    "        if j>=0:\n",
    "            s+=int(y[j])\n",
    "            j-=1\n",
    "        s,m = divmod(s,2)\n",
    "        res.append(str(m))\n",
    "    return ''.join(res)[::-1]\n",
    "\n",
    "def addBinary2(x,y):\n",
    "    return bin(int(x,2) + int(y,2))[2:]"
   ]
  },
  {
   "cell_type": "code",
   "execution_count": 282,
   "metadata": {},
   "outputs": [
    {
     "output_type": "stream",
     "name": "stdout",
     "text": [
      "10\n10\n"
     ]
    }
   ],
   "source": [
    "a = '1'\n",
    "b = '1'\n",
    "print(addBinary(a,b))\n",
    "print(addBinary2(a,b))"
   ]
  },
  {
   "cell_type": "code",
   "execution_count": 354,
   "metadata": {},
   "outputs": [
    {
     "output_type": "stream",
     "name": "stdout",
     "text": [
      "126686\n"
     ]
    }
   ],
   "source": [
    "# TLE time:O(n^2)\n",
    "\n",
    "count = 0\n",
    "for i in range(1,len(nums)-1):\n",
    "    for j in range(i+1,len(nums)):\n",
    "        left = nums[:i]\n",
    "        midd = nums[i:j]\n",
    "        right = nums[j:]\n",
    "        if sum(left)>sum(midd):\n",
    "            continue\n",
    "        if sum(midd)>sum(right):\n",
    "            break\n",
    "        if sum(left)<=sum(midd)<=sum(right):\n",
    "            count+=1\n",
    "print(count)"
   ]
  },
  {
   "cell_type": "code",
   "execution_count": 359,
   "metadata": {},
   "outputs": [
    {
     "output_type": "stream",
     "name": "stdout",
     "text": [
      "1\n"
     ]
    }
   ],
   "source": [
    "from itertools import accumulate\n",
    "import bisect\n",
    "\n",
    "nums = [1,1,1]\n",
    "n = len(nums)\n",
    "t = list(accumulate(nums))\n",
    "count = 0\n",
    "for i in range(n-2):\n",
    "    j_left = max(bisect.bisect_left(t,2*t[i]),i+1)\n",
    "    j_right = min(bisect.bisect_right(t,(t[i]+t[n-1])/2),n-1)\n",
    "    if j_left<=j_right:\n",
    "        count+=j_right-j_left\n",
    "print(count%(10**9+7))"
   ]
  },
  {
   "cell_type": "code",
   "execution_count": 358,
   "metadata": {},
   "outputs": [
    {
     "output_type": "execute_result",
     "data": {
      "text/plain": [
       "2"
      ]
     },
     "metadata": {},
     "execution_count": 358
    }
   ],
   "source": [
    "bisect.bisect_right([1,2,3],2)"
   ]
  },
  {
   "cell_type": "code",
   "execution_count": 361,
   "metadata": {},
   "outputs": [
    {
     "output_type": "execute_result",
     "data": {
      "text/plain": [
       "[4, 6, 2, 3, 8, 6, 1]"
      ]
     },
     "metadata": {},
     "execution_count": 361
    }
   ],
   "source": [
    "# 最長的子序列\n",
    "target = [6,4,8,1,3,2]\n",
    "arr = [4,7,6,2,3,8,6,1]\n",
    "i = 0 \n",
    "s = 0\n",
    "m = 0\n",
    "c = 0\n",
    "while i<len(target):\n",
    "    try:\n",
    "        k=arr.index(target[i],s)\n",
    "        m+=1\n",
    "        i+=1\n",
    "        s=k+1\n",
    "    except:\n",
    "        m = max(m,c)\n",
    "        s = 0\n",
    "        c = 0"
   ]
  },
  {
   "cell_type": "code",
   "execution_count": 362,
   "metadata": {},
   "outputs": [
    {
     "output_type": "execute_result",
     "data": {
      "text/plain": [
       "0"
      ]
     },
     "metadata": {},
     "execution_count": 362
    }
   ],
   "source": [
    "[1,2,3].index(1)"
   ]
  },
  {
   "cell_type": "code",
   "execution_count": null,
   "metadata": {},
   "outputs": [],
   "source": []
  }
 ],
 "metadata": {
  "kernelspec": {
   "name": "python3",
   "display_name": "Python 3.7.5 64-bit ('qj': conda)",
   "metadata": {
    "interpreter": {
     "hash": "1461ed4eaf9af82a15b679fb8211aa32883370151bcc762036b14c52e60f8822"
    }
   }
  },
  "language_info": {
   "codemirror_mode": {
    "name": "ipython",
    "version": 3
   },
   "file_extension": ".py",
   "mimetype": "text/x-python",
   "name": "python",
   "nbconvert_exporter": "python",
   "pygments_lexer": "ipython3",
   "version": "3.7.5-final"
  }
 },
 "nbformat": 4,
 "nbformat_minor": 2
}