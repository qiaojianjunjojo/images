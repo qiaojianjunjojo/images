{
 "metadata": {
  "language_info": {
   "codemirror_mode": {
    "name": "ipython",
    "version": 3
   },
   "file_extension": ".py",
   "mimetype": "text/x-python",
   "name": "python",
   "nbconvert_exporter": "python",
   "pygments_lexer": "ipython3",
   "version": "3.7.5-final"
  },
  "orig_nbformat": 2,
  "kernelspec": {
   "name": "python3",
   "display_name": "Python 3"
  }
 },
 "nbformat": 4,
 "nbformat_minor": 2,
 "cells": [
  {
   "cell_type": "code",
   "execution_count": null,
   "metadata": {},
   "outputs": [],
   "source": []
  },
  {
   "source": [
    "## 10分鐘快速了解python内置collections的雙端隊列deque"
   ],
   "cell_type": "markdown",
   "metadata": {}
  },
  {
   "cell_type": "code",
   "execution_count": 59,
   "metadata": {},
   "outputs": [
    {
     "output_type": "execute_result",
     "data": {
      "text/plain": [
       "deque([1, 2, 3, 4, 5])"
      ]
     },
     "metadata": {},
     "execution_count": 59
    }
   ],
   "source": [
    "from collections import deque\n",
    "d = deque(range(1,6),maxlen=5)\n",
    "d"
   ]
  },
  {
   "cell_type": "code",
   "execution_count": 60,
   "metadata": {},
   "outputs": [
    {
     "output_type": "stream",
     "name": "stdout",
     "text": [
      "deque([2, 3, 4, 5, 6], maxlen=5)\ndeque([3, 4, 5, 6, 7], maxlen=5)\n"
     ]
    }
   ],
   "source": [
    "#我们可以限制deque中元素的个数，当deque的元素数超过能存放的元素数(maxlen)，它会从相对一端pop元素。例如：\n",
    "d.append(6)\n",
    "print(d)\n",
    "d.append(7)\n",
    "print(d)"
   ]
  },
  {
   "source": [
    "### 我们也可以扩展deque中的元素："
   ],
   "cell_type": "markdown",
   "metadata": {}
  },
  {
   "cell_type": "code",
   "execution_count": 61,
   "metadata": {},
   "outputs": [
    {
     "output_type": "stream",
     "name": "stdout",
     "text": [
      "deque([1, 2, 3, 4, 5])\ndeque([0, 1, 2, 3, 4, 5, 6, 7, 8])\n"
     ]
    }
   ],
   "source": [
    "from collections import deque\n",
    "\n",
    "d = deque([1, 2, 3, 4, 5])\n",
    "print(d)\n",
    "d.extendleft([0])\n",
    "d.extend([6, 7, 8])\n",
    "print(d)"
   ]
  },
  {
   "source": [
    "append(x)：把元素x添加到队列的右端  \n",
    "appendleft(x)：把元素x添加到队列的左端  \n",
    "clear()：清空队列中所有元素  \n",
    "copy()：创建队列的浅拷贝  \n",
    "count(x)：计算队列中等于x元素的个数  \n",
    "extend(iterable)：在队列右端通过添加元素扩展  \n",
    "extendleft(iterable)：在队列左端通过添加元素扩展  \n",
    "index(x[, start[, stop]])：返回x元素在队列中的索引，放回第一个匹配，如果没有找到抛ValueError  \n",
    "insert(i, x)：在队列的i索引处，插入x元素  \n",
    "pop()：移除并返回deque右端的元素，如果没有元素抛IndexError  \n",
    "popleft()：移除并返回deque左端的元素，如果没有元素抛IndexError  \n",
    "remove(value)：删除第一个匹配value的元素，如果没有找到抛ValueError  \n",
    "reverse()：在原地反转队列中的元素  \n",
    "rotate(n)：把队列左端n个元素放到右端，如果为负值，右端到左端。如果n为1，等同d.appendleft(d.pop())  \n",
    "maxlen：只读属性，队列中的最大元素数  "
   ],
   "cell_type": "markdown",
   "metadata": {}
  },
  {
   "cell_type": "code",
   "execution_count": null,
   "metadata": {},
   "outputs": [],
   "source": []
  },
  {
   "cell_type": "code",
   "execution_count": null,
   "metadata": {},
   "outputs": [],
   "source": []
  },
  {
   "cell_type": "code",
   "execution_count": null,
   "metadata": {},
   "outputs": [],
   "source": []
  },
  {
   "cell_type": "code",
   "execution_count": null,
   "metadata": {},
   "outputs": [],
   "source": []
  },
  {
   "cell_type": "code",
   "execution_count": null,
   "metadata": {},
   "outputs": [],
   "source": []
  }
 ]
}