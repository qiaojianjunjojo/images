{
 "metadata": {
  "language_info": {
   "codemirror_mode": {
    "name": "ipython",
    "version": 3
   },
   "file_extension": ".py",
   "mimetype": "text/x-python",
   "name": "python",
   "nbconvert_exporter": "python",
   "pygments_lexer": "ipython3",
   "version": "3.7.5-final"
  },
  "orig_nbformat": 2,
  "kernelspec": {
   "name": "python3",
   "display_name": "Python 3"
  }
 },
 "nbformat": 4,
 "nbformat_minor": 2,
 "cells": [
  {
   "source": [
    "# python中綴表達式轉後綴表達式"
   ],
   "cell_type": "markdown",
   "metadata": {}
  },
  {
   "cell_type": "code",
   "execution_count": 1,
   "metadata": {},
   "outputs": [],
   "source": [
    "\n",
    "def middltosuf(s):\n",
    "    stack = []\n",
    "    prority = {\"*\":10,\"/\":10,\"+\":1,\"-\":1,\"(\":0}\n",
    "    res = ''\n",
    "    for c in s:\n",
    "        if c.isalnum():\n",
    "            res+=c\n",
    "        elif c in '*/+-':\n",
    "            if not stack:\n",
    "                stack.append(c)\n",
    "            else:\n",
    "                while True:\n",
    "                    if not stack:\n",
    "                        stack.append(c)\n",
    "                        break\n",
    "                    if prority[c]>prority[stack[-1]]:\n",
    "                        stack.append(c)\n",
    "                        break\n",
    "                    else:\n",
    "                        res = res +stack.pop()\n",
    "        elif c =='(':\n",
    "            stack.append(c)\n",
    "        elif c ==')':\n",
    "            while stack:\n",
    "                if stack[-1] == '(':\n",
    "                    stack.pop()\n",
    "                    break\n",
    "                else:\n",
    "                    res+=stack.pop()\n",
    "    \n",
    "    while stack:\n",
    "        res+=stack.pop()\n",
    "    return res"
   ]
  },
  {
   "cell_type": "code",
   "execution_count": 2,
   "metadata": {},
   "outputs": [
    {
     "output_type": "stream",
     "name": "stdout",
     "text": [
      "abc*+de*f+g*+\n123*+42/+\n"
     ]
    }
   ],
   "source": [
    "s = \"a+b*c+(d*e+f)*g\"\n",
    "s2 = \"1+2*3 +4/2\"\n",
    "print(middltosuf(s))\n",
    "print(middltosuf(s2))"
   ]
  },
  {
   "source": [
    "## python後綴表達式求值"
   ],
   "cell_type": "markdown",
   "metadata": {}
  },
  {
   "cell_type": "code",
   "execution_count": 3,
   "metadata": {},
   "outputs": [],
   "source": [
    "def getvalue(s):\n",
    "    temp = s.split()\n",
    "    stack = []\n",
    "    for i in range(len(temp)):\n",
    "        if temp[i] in '+-*/':\n",
    "            op2 = stack.pop()\n",
    "            op1 = stack.pop()\n",
    "            res = eval(op1+temp[i]+op2)\n",
    "            stack.append(str(res))\n",
    "        elif temp[i].isdigit():\n",
    "            stack.append(temp[i])\n",
    "    return stack.pop()"
   ]
  },
  {
   "cell_type": "code",
   "execution_count": 4,
   "metadata": {},
   "outputs": [
    {
     "output_type": "stream",
     "name": "stdout",
     "text": [
      "27.0\n9.0\n"
     ]
    }
   ],
   "source": [
    "s = '1 2 3 * + 40 2 / +'\n",
    "s2 = '1 2 3 * + 4 2 / +'\n",
    "print(getvalue(s))\n",
    "print(getvalue(s2))"
   ]
  },
  {
   "cell_type": "code",
   "execution_count": null,
   "metadata": {},
   "outputs": [],
   "source": []
  },
  {
   "cell_type": "code",
   "execution_count": 1,
   "metadata": {},
   "outputs": [
    {
     "output_type": "execute_result",
     "data": {
      "text/plain": [
       "3.0"
      ]
     },
     "metadata": {},
     "execution_count": 1
    }
   ],
   "source": []
  },
  {
   "cell_type": "code",
   "execution_count": null,
   "metadata": {},
   "outputs": [],
   "source": []
  }
 ]
}