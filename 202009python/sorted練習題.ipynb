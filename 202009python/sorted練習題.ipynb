{
 "metadata": {
  "language_info": {
   "codemirror_mode": {
    "name": "ipython",
    "version": 3
   },
   "file_extension": ".py",
   "mimetype": "text/x-python",
   "name": "python",
   "nbconvert_exporter": "python",
   "pygments_lexer": "ipython3",
   "version": "3.7.5-final"
  },
  "orig_nbformat": 2,
  "kernelspec": {
   "name": "python3",
   "display_name": "Python 3",
   "language": "python"
  }
 },
 "nbformat": 4,
 "nbformat_minor": 2,
 "cells": [
  {
   "cell_type": "code",
   "execution_count": 9,
   "metadata": {},
   "outputs": [
    {
     "output_type": "stream",
     "name": "stdout",
     "text": [
      "{'A': [-5, 0, 0, 0, 0, 'A'], 'B': [0, -2, -3, 0, 0, 'B'], 'C': [0, -3, -2, 0, 0, 'C']}\n"
     ]
    },
    {
     "output_type": "execute_result",
     "data": {
      "text/plain": [
       "['A', 'C', 'B']"
      ]
     },
     "metadata": {},
     "execution_count": 9
    }
   ],
   "source": [
    "#Rank Teams by Votes\n",
    "#Input: \n",
    "votes = [\"ABC\",\"ACB\",\"ABC\",\"ACB\",\"ACB\"] # Output: \"ACB\"\n",
    "d = {c:[0]*len(votes)+[c] for c in votes[0]}\n",
    "for vote in votes:\n",
    "    for idx,val in enumerate(vote):\n",
    "        d[val][idx]-=1\n",
    "print(d)\n",
    "sorted(votes[0],key=d.get)"
   ]
  },
  {
   "cell_type": "code",
   "execution_count": 15,
   "metadata": {},
   "outputs": [
    {
     "output_type": "execute_result",
     "data": {
      "text/plain": [
       "[0, 0, 1, 1, 2, 2]"
      ]
     },
     "metadata": {},
     "execution_count": 15
    }
   ],
   "source": [
    "#75. Sort Colors O(n)\n",
    "#Input:\n",
    "nums = [2,0,2,1,1,0]\n",
    "#Output: [0,0,1,1,2,2]\n",
    "i,j,k = 0,0,len(nums)-1\n",
    "while j<=k:\n",
    "    if i<j and nums[j] ==0:\n",
    "        nums[i],nums[j] = nums[j],nums[i]\n",
    "        i+=1\n",
    "    elif nums[j] ==2:\n",
    "        nums[k],nums[j] = nums[j],nums[k]\n",
    "        k-=1\n",
    "    else:\n",
    "        j+=1\n",
    "nums"
   ]
  },
  {
   "cell_type": "code",
   "execution_count": 34,
   "metadata": {},
   "outputs": [
    {
     "output_type": "execute_result",
     "data": {
      "text/plain": [
       "[[0, 0], [0, 1]]"
      ]
     },
     "metadata": {},
     "execution_count": 34
    }
   ],
   "source": [
    "R = 1\n",
    "C = 2\n",
    "r0 = 0\n",
    "c0 = 0\n",
    "points = [[i,j] for j in range(C) for i in range(R)] \n",
    "sorted(points,key=lambda x:abs(x[0]-r0) + abs(x[1] - c0))"
   ]
  },
  {
   "cell_type": "code",
   "execution_count": 22,
   "metadata": {},
   "outputs": [
    {
     "output_type": "error",
     "ename": "NameError",
     "evalue": "name 'C' is not defined",
     "traceback": [
      "\u001b[1;31m---------------------------------------------------------------------------\u001b[0m",
      "\u001b[1;31mNameError\u001b[0m                                 Traceback (most recent call last)",
      "\u001b[1;32m<ipython-input-22-cdf57450359f>\u001b[0m in \u001b[0;36m<module>\u001b[1;34m\u001b[0m\n\u001b[1;32m----> 1\u001b[1;33m \u001b[1;33m[\u001b[0m\u001b[1;33m[\u001b[0m\u001b[0mj\u001b[0m \u001b[1;32mfor\u001b[0m \u001b[0mj\u001b[0m \u001b[1;32min\u001b[0m \u001b[0mraneg\u001b[0m\u001b[1;33m(\u001b[0m\u001b[0mR\u001b[0m\u001b[1;33m)\u001b[0m\u001b[1;33m]\u001b[0m \u001b[1;32mfor\u001b[0m \u001b[0mi\u001b[0m \u001b[1;32min\u001b[0m \u001b[0mrange\u001b[0m\u001b[1;33m(\u001b[0m\u001b[0mC\u001b[0m\u001b[1;33m)\u001b[0m\u001b[1;33m]\u001b[0m\u001b[1;33m\u001b[0m\u001b[1;33m\u001b[0m\u001b[0m\n\u001b[0m",
      "\u001b[1;31mNameError\u001b[0m: name 'C' is not defined"
     ]
    }
   ],
   "source": [
    "[[j for j in raneg(R)] for i in range(C)] "
   ]
  },
  {
   "cell_type": "code",
   "execution_count": 49,
   "metadata": {},
   "outputs": [
    {
     "output_type": "stream",
     "name": "stdout",
     "text": [
      "0.30000000000000004\nFalse\n"
     ]
    }
   ],
   "source": [
    "val = 0.1\n",
    "print(val + val +val)\n",
    "from decimal import Decimal\n",
    "my_decimal = Decimal(0.1)\n",
    "sum_of_decimals = my_decimal + my_decimal + my_decimal\n",
    "print(sum_of_decimals == Decimal(0.3))"
   ]
  },
  {
   "cell_type": "code",
   "execution_count": 55,
   "metadata": {},
   "outputs": [
    {
     "output_type": "execute_result",
     "data": {
      "text/plain": [
       "{'a': 1, 'b': 3}"
      ]
     },
     "metadata": {},
     "execution_count": 55
    }
   ],
   "source": [
    "dict1 = {'a': 1, 'b': 2,'b':3}\n",
    "dict1"
   ]
  },
  {
   "cell_type": "code",
   "execution_count": null,
   "metadata": {},
   "outputs": [],
   "source": []
  }
 ]
}